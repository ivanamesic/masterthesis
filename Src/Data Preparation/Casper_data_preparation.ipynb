{
 "cells": [
  {
   "cell_type": "code",
   "execution_count": 1,
   "metadata": {},
   "outputs": [],
   "source": [
    "import pandas as pd\n",
    "\n",
    "casper_dir = \"/mnt/Ivana/Data/Casper/\"\n",
    "\n",
    "raw_dir = casper_dir + \"Raw/\""
   ]
  },
  {
   "cell_type": "markdown",
   "metadata": {},
   "source": [
    "## Load Data and Check for Missing features"
   ]
  },
  {
   "cell_type": "code",
   "execution_count": 2,
   "metadata": {},
   "outputs": [
    {
     "data": {
      "text/plain": [
       "DateTime                  0\n",
       "Daily New Addresses       0\n",
       "Daily Active Addresses    0\n",
       "dtype: int64"
      ]
     },
     "execution_count": 2,
     "metadata": {},
     "output_type": "execute_result"
    }
   ],
   "source": [
    "active_df = pd.read_csv(raw_dir + \"address-wallet-detail-data.csv\", sep=\";\")\n",
    "active_df.isnull().sum()"
   ]
  },
  {
   "cell_type": "code",
   "execution_count": 3,
   "metadata": {},
   "outputs": [
    {
     "data": {
      "text/plain": [
       "DateTime                  0\n",
       "Total Distinct Address    0\n",
       "dtype: int64"
      ]
     },
     "execution_count": 3,
     "metadata": {},
     "output_type": "execute_result"
    }
   ],
   "source": [
    "address_total = pd.read_csv(raw_dir + \"total-addresses-data.csv\", sep=\";\")\n",
    "address_total.isnull().sum()"
   ]
  },
  {
   "cell_type": "code",
   "execution_count": 4,
   "metadata": {},
   "outputs": [
    {
     "data": {
      "text/plain": [
       "DateTime                         0\n",
       "current_price                    0\n",
       "market_cap                       0\n",
       "total_volume                     0\n",
       "twitter_followers              216\n",
       "reddit_average_posts_48h         0\n",
       "reddit_average_comments_48h      0\n",
       "reddit_subscribers             296\n",
       "reddit_accounts_active_48h     296\n",
       "dtype: int64"
      ]
     },
     "execution_count": 4,
     "metadata": {},
     "output_type": "execute_result"
    }
   ],
   "source": [
    "market_df = pd.read_csv(raw_dir + \"Casper_market_data.csv\", sep=\",\")\n",
    "\n",
    "# market_df.DateTime = pd.to_datetime(market_df.DateTime, format=\"%d-%m-%Y\")\n",
    "# market_df.DateTime = market_df.DateTime.apply(lambda x: format(x, \"%Y-%m-%d\"))\n",
    "market_df.isnull().sum()"
   ]
  },
  {
   "cell_type": "code",
   "execution_count": 5,
   "metadata": {},
   "outputs": [
    {
     "data": {
      "text/html": [
       "<div>\n",
       "<style scoped>\n",
       "    .dataframe tbody tr th:only-of-type {\n",
       "        vertical-align: middle;\n",
       "    }\n",
       "\n",
       "    .dataframe tbody tr th {\n",
       "        vertical-align: top;\n",
       "    }\n",
       "\n",
       "    .dataframe thead th {\n",
       "        text-align: right;\n",
       "    }\n",
       "</style>\n",
       "<table border=\"1\" class=\"dataframe\">\n",
       "  <thead>\n",
       "    <tr style=\"text-align: right;\">\n",
       "      <th></th>\n",
       "      <th>DateTime</th>\n",
       "      <th>current_price</th>\n",
       "      <th>market_cap</th>\n",
       "      <th>total_volume</th>\n",
       "      <th>twitter_followers</th>\n",
       "      <th>reddit_average_posts_48h</th>\n",
       "      <th>reddit_average_comments_48h</th>\n",
       "      <th>reddit_subscribers</th>\n",
       "      <th>reddit_accounts_active_48h</th>\n",
       "    </tr>\n",
       "  </thead>\n",
       "  <tbody>\n",
       "    <tr>\n",
       "      <th>0</th>\n",
       "      <td>2021-05-12</td>\n",
       "      <td>1.325445</td>\n",
       "      <td>0.000000e+00</td>\n",
       "      <td>7.839316e+08</td>\n",
       "      <td>NaN</td>\n",
       "      <td>0.000</td>\n",
       "      <td>0.0</td>\n",
       "      <td>NaN</td>\n",
       "      <td>NaN</td>\n",
       "    </tr>\n",
       "    <tr>\n",
       "      <th>1</th>\n",
       "      <td>2021-05-13</td>\n",
       "      <td>0.784341</td>\n",
       "      <td>0.000000e+00</td>\n",
       "      <td>3.902878e+08</td>\n",
       "      <td>41414.0</td>\n",
       "      <td>0.000</td>\n",
       "      <td>0.0</td>\n",
       "      <td>NaN</td>\n",
       "      <td>NaN</td>\n",
       "    </tr>\n",
       "    <tr>\n",
       "      <th>2</th>\n",
       "      <td>2021-05-14</td>\n",
       "      <td>0.793025</td>\n",
       "      <td>0.000000e+00</td>\n",
       "      <td>2.093212e+08</td>\n",
       "      <td>42374.0</td>\n",
       "      <td>0.000</td>\n",
       "      <td>0.0</td>\n",
       "      <td>NaN</td>\n",
       "      <td>NaN</td>\n",
       "    </tr>\n",
       "    <tr>\n",
       "      <th>3</th>\n",
       "      <td>2021-05-15</td>\n",
       "      <td>0.784347</td>\n",
       "      <td>0.000000e+00</td>\n",
       "      <td>1.123037e+08</td>\n",
       "      <td>42917.0</td>\n",
       "      <td>0.000</td>\n",
       "      <td>0.0</td>\n",
       "      <td>NaN</td>\n",
       "      <td>NaN</td>\n",
       "    </tr>\n",
       "    <tr>\n",
       "      <th>4</th>\n",
       "      <td>2021-05-16</td>\n",
       "      <td>0.597344</td>\n",
       "      <td>0.000000e+00</td>\n",
       "      <td>1.021590e+08</td>\n",
       "      <td>43432.0</td>\n",
       "      <td>0.000</td>\n",
       "      <td>0.0</td>\n",
       "      <td>NaN</td>\n",
       "      <td>NaN</td>\n",
       "    </tr>\n",
       "    <tr>\n",
       "      <th>...</th>\n",
       "      <td>...</td>\n",
       "      <td>...</td>\n",
       "      <td>...</td>\n",
       "      <td>...</td>\n",
       "      <td>...</td>\n",
       "      <td>...</td>\n",
       "      <td>...</td>\n",
       "      <td>...</td>\n",
       "      <td>...</td>\n",
       "    </tr>\n",
       "    <tr>\n",
       "      <th>772</th>\n",
       "      <td>2023-06-23</td>\n",
       "      <td>0.041317</td>\n",
       "      <td>4.594649e+08</td>\n",
       "      <td>4.004779e+06</td>\n",
       "      <td>185123.0</td>\n",
       "      <td>0.182</td>\n",
       "      <td>0.0</td>\n",
       "      <td>190.0</td>\n",
       "      <td>11.083333</td>\n",
       "    </tr>\n",
       "    <tr>\n",
       "      <th>773</th>\n",
       "      <td>2023-06-24</td>\n",
       "      <td>0.041428</td>\n",
       "      <td>4.612905e+08</td>\n",
       "      <td>3.219302e+06</td>\n",
       "      <td>185135.0</td>\n",
       "      <td>0.083</td>\n",
       "      <td>0.0</td>\n",
       "      <td>190.0</td>\n",
       "      <td>6.846154</td>\n",
       "    </tr>\n",
       "    <tr>\n",
       "      <th>774</th>\n",
       "      <td>2023-06-25</td>\n",
       "      <td>0.040103</td>\n",
       "      <td>4.466314e+08</td>\n",
       "      <td>3.228578e+06</td>\n",
       "      <td>185154.0</td>\n",
       "      <td>0.091</td>\n",
       "      <td>0.0</td>\n",
       "      <td>191.0</td>\n",
       "      <td>3.416667</td>\n",
       "    </tr>\n",
       "    <tr>\n",
       "      <th>775</th>\n",
       "      <td>2023-06-26</td>\n",
       "      <td>0.041080</td>\n",
       "      <td>4.571842e+08</td>\n",
       "      <td>2.838463e+06</td>\n",
       "      <td>185172.0</td>\n",
       "      <td>0.000</td>\n",
       "      <td>0.0</td>\n",
       "      <td>191.0</td>\n",
       "      <td>2.833333</td>\n",
       "    </tr>\n",
       "    <tr>\n",
       "      <th>776</th>\n",
       "      <td>2023-06-27</td>\n",
       "      <td>0.040785</td>\n",
       "      <td>4.531838e+08</td>\n",
       "      <td>3.373706e+06</td>\n",
       "      <td>NaN</td>\n",
       "      <td>0.000</td>\n",
       "      <td>0.0</td>\n",
       "      <td>191.0</td>\n",
       "      <td>2.500000</td>\n",
       "    </tr>\n",
       "  </tbody>\n",
       "</table>\n",
       "<p>777 rows × 9 columns</p>\n",
       "</div>"
      ],
      "text/plain": [
       "       DateTime  current_price    market_cap  total_volume  twitter_followers  \\\n",
       "0    2021-05-12       1.325445  0.000000e+00  7.839316e+08                NaN   \n",
       "1    2021-05-13       0.784341  0.000000e+00  3.902878e+08            41414.0   \n",
       "2    2021-05-14       0.793025  0.000000e+00  2.093212e+08            42374.0   \n",
       "3    2021-05-15       0.784347  0.000000e+00  1.123037e+08            42917.0   \n",
       "4    2021-05-16       0.597344  0.000000e+00  1.021590e+08            43432.0   \n",
       "..          ...            ...           ...           ...                ...   \n",
       "772  2023-06-23       0.041317  4.594649e+08  4.004779e+06           185123.0   \n",
       "773  2023-06-24       0.041428  4.612905e+08  3.219302e+06           185135.0   \n",
       "774  2023-06-25       0.040103  4.466314e+08  3.228578e+06           185154.0   \n",
       "775  2023-06-26       0.041080  4.571842e+08  2.838463e+06           185172.0   \n",
       "776  2023-06-27       0.040785  4.531838e+08  3.373706e+06                NaN   \n",
       "\n",
       "     reddit_average_posts_48h  reddit_average_comments_48h  \\\n",
       "0                       0.000                          0.0   \n",
       "1                       0.000                          0.0   \n",
       "2                       0.000                          0.0   \n",
       "3                       0.000                          0.0   \n",
       "4                       0.000                          0.0   \n",
       "..                        ...                          ...   \n",
       "772                     0.182                          0.0   \n",
       "773                     0.083                          0.0   \n",
       "774                     0.091                          0.0   \n",
       "775                     0.000                          0.0   \n",
       "776                     0.000                          0.0   \n",
       "\n",
       "     reddit_subscribers  reddit_accounts_active_48h  \n",
       "0                   NaN                         NaN  \n",
       "1                   NaN                         NaN  \n",
       "2                   NaN                         NaN  \n",
       "3                   NaN                         NaN  \n",
       "4                   NaN                         NaN  \n",
       "..                  ...                         ...  \n",
       "772               190.0                   11.083333  \n",
       "773               190.0                    6.846154  \n",
       "774               191.0                    3.416667  \n",
       "775               191.0                    2.833333  \n",
       "776               191.0                    2.500000  \n",
       "\n",
       "[777 rows x 9 columns]"
      ]
     },
     "execution_count": 5,
     "metadata": {},
     "output_type": "execute_result"
    }
   ],
   "source": [
    "market_df"
   ]
  },
  {
   "cell_type": "code",
   "execution_count": 6,
   "metadata": {},
   "outputs": [],
   "source": [
    "# Drop features that have a lot of missing values\n",
    "market_df.drop([\"twitter_followers\", \"reddit_subscribers\", \"reddit_accounts_active_48h\", \"reddit_average_posts_48h\", \"reddit_average_comments_48h\"], axis = 1, inplace=True)"
   ]
  },
  {
   "cell_type": "code",
   "execution_count": 7,
   "metadata": {},
   "outputs": [
    {
     "data": {
      "text/plain": [
       "datetime    0\n",
       "open        0\n",
       "high        0\n",
       "low         0\n",
       "close       0\n",
       "dtype: int64"
      ]
     },
     "execution_count": 7,
     "metadata": {},
     "output_type": "execute_result"
    }
   ],
   "source": [
    "ohlc_df = pd.read_csv(raw_dir + \"Casper_OHLC.csv\")\n",
    "ohlc_df.isnull().sum()"
   ]
  },
  {
   "cell_type": "code",
   "execution_count": 8,
   "metadata": {},
   "outputs": [
    {
     "data": {
      "text/plain": [
       "Date                             0\n",
       "current_price                    0\n",
       "market_cap                       0\n",
       "total_volume                     0\n",
       "facebook_likes                 777\n",
       "twitter_followers              216\n",
       "reddit_average_posts_48h         0\n",
       "reddit_average_comments_48h      0\n",
       "reddit_subscribers             296\n",
       "reddit_accounts_active_48h     296\n",
       "forks                          777\n",
       "stars                          777\n",
       "subscribers                    777\n",
       "total_issues                   777\n",
       "closed_issues                  777\n",
       "pull_requests_merged           777\n",
       "pull_request_contributors      777\n",
       "commit_count_4_weeks           777\n",
       "dtype: int64"
      ]
     },
     "execution_count": 8,
     "metadata": {},
     "output_type": "execute_result"
    }
   ],
   "source": [
    "coingecko_df = pd.read_csv(raw_dir + \"CoinGecko_Casper.csv\")\n",
    "coingecko_df.isnull().sum()"
   ]
  },
  {
   "cell_type": "code",
   "execution_count": 9,
   "metadata": {},
   "outputs": [
    {
     "data": {
      "text/plain": [
       "DateTime                    0\n",
       "staked_amount_delegators    0\n",
       "Total Delegators            0\n",
       "dtype: int64"
      ]
     },
     "execution_count": 9,
     "metadata": {},
     "output_type": "execute_result"
    }
   ],
   "source": [
    "delegators_df = pd.read_csv(raw_dir + \"delegator-detail-data.csv\", sep=\";\")\n",
    "delegators_df.rename({\"Staked Delegators\": \"staked_amount_delegators\"}, axis=1, inplace=True)\n",
    "delegators_df.isna().sum()"
   ]
  },
  {
   "cell_type": "code",
   "execution_count": 10,
   "metadata": {},
   "outputs": [
    {
     "data": {
      "text/plain": [
       "DateTime              0\n",
       "Delegated             0\n",
       "Delegated Amount      0\n",
       "Undelegated           0\n",
       "Undelegated Amount    0\n",
       "dtype: int64"
      ]
     },
     "execution_count": 10,
     "metadata": {},
     "output_type": "execute_result"
    }
   ],
   "source": [
    "staking_df = pd.read_csv(raw_dir + \"staking-detail-data-casper.csv\", sep=\";\")\n",
    "staking_df.isna().sum()"
   ]
  },
  {
   "cell_type": "code",
   "execution_count": 11,
   "metadata": {},
   "outputs": [
    {
     "data": {
      "text/plain": [
       "DateTime                    0\n",
       "staked_amount_validators    0\n",
       "Total Validators            0\n",
       "dtype: int64"
      ]
     },
     "execution_count": 11,
     "metadata": {},
     "output_type": "execute_result"
    }
   ],
   "source": [
    "validator_df = pd.read_csv(raw_dir + \"validator-detail-data.csv\", sep=\";\")\n",
    "validator_df.rename({\"Staked\": \"staked_amount_validators\"}, axis=1, inplace=True)\n",
    "validator_df.isnull().sum()"
   ]
  },
  {
   "cell_type": "code",
   "execution_count": 12,
   "metadata": {},
   "outputs": [
    {
     "data": {
      "text/plain": [
       "DateTime                 0\n",
       "Total Transaction        0\n",
       "Smart contract deploy    0\n",
       "CSPR Txn                 0\n",
       "dtype: int64"
      ]
     },
     "execution_count": 12,
     "metadata": {},
     "output_type": "execute_result"
    }
   ],
   "source": [
    "transactions_df = pd.read_csv(raw_dir + \"daily-price-detail-data.csv\", sep=\";\")\n",
    "transactions_df.isnull().sum()"
   ]
  },
  {
   "cell_type": "code",
   "execution_count": 13,
   "metadata": {},
   "outputs": [
    {
     "name": "stdout",
     "output_type": "stream",
     "text": [
      "DateTime         0\n",
      "NFTs Transfer    0\n",
      "NFTs Burn        0\n",
      "NFTs Minted      0\n",
      "dtype: int64\n",
      "DateTime             0\n",
      "Total NFTs Minted    0\n",
      "dtype: int64\n"
     ]
    }
   ],
   "source": [
    "nft_daily = pd.read_csv(raw_dir + \"daily-nft-detail-data.csv\", sep=\";\")\n",
    "nft_total = pd.read_csv(raw_dir + \"data-nfts-data.csv\", sep=\";\")\n",
    "\n",
    "print(nft_daily.isnull().sum())\n",
    "print(nft_total.isnull().sum())"
   ]
  },
  {
   "cell_type": "code",
   "execution_count": 14,
   "metadata": {},
   "outputs": [],
   "source": [
    "other_crypto_prices = pd.read_csv(raw_dir + \"OtherBlockchainPrices.csv\")\n",
    "other_crypto_prices.rename({\"Date\":\"DateTime\"}, axis = 1, inplace=True)"
   ]
  },
  {
   "cell_type": "markdown",
   "metadata": {},
   "source": [
    "## Join data into groups"
   ]
  },
  {
   "cell_type": "code",
   "execution_count": 15,
   "metadata": {},
   "outputs": [],
   "source": [
    "all_dfs = [active_df, market_df, delegators_df, staking_df, transactions_df, validator_df, nft_total, nft_daily]"
   ]
  },
  {
   "cell_type": "code",
   "execution_count": 16,
   "metadata": {},
   "outputs": [],
   "source": [
    "data_groups = {\n",
    "    \"Accounts\" : [active_df, address_total, delegators_df[[\"DateTime\", \"Total Delegators\"]], validator_df[['DateTime','Total Validators']]],\n",
    "    \"Market\" : [market_df, other_crypto_prices],\n",
    "    \"Staking\" : [staking_df[[\"DateTime\", \"Delegated Amount\", \"Undelegated Amount\"]], delegators_df[[\"DateTime\", \"staked_amount_delegators\"]],  validator_df[['DateTime', 'staked_amount_validators']] ],\n",
    "    \"Transactions\" : [transactions_df, nft_daily, nft_total]\n",
    "}"
   ]
  },
  {
   "cell_type": "code",
   "execution_count": 17,
   "metadata": {},
   "outputs": [
    {
     "name": "stdout",
     "output_type": "stream",
     "text": [
      "Accounts (731, 6)\n",
      "Market (731, 16)\n",
      "Staking (731, 5)\n",
      "Transactions (731, 8)\n"
     ]
    }
   ],
   "source": [
    "dest_dir = \"/mnt/Ivana/Data/Casper/Processed/\"\n",
    "\n",
    "START_DATE = pd.to_datetime(\"2021-06-01\", format=\"%Y-%m-%d\")\n",
    "END_DATE = pd.to_datetime(\"2023-06-01\", format=\"%Y-%m-%d\")\n",
    "\n",
    "for key, value in data_groups.items():\n",
    "    file_name = dest_dir + key + \".csv\"\n",
    "    # if key == \"Market\" : \n",
    "    #     result = value\n",
    "    # else:\n",
    "    result = value[0]\n",
    "    for v in value[1:]:\n",
    "        result = pd.merge(result, v, how=\"left\", on=\"DateTime\")\n",
    "    \n",
    "    result.DateTime = pd.to_datetime(result.DateTime, format=\"%Y-%m-%d\")\n",
    "    result = result[(result.DateTime >= START_DATE) & (result.DateTime <= END_DATE)].reset_index(drop=True)\n",
    "\n",
    "    print(key, result.shape)\n",
    "    result.to_csv(file_name, index=False)"
   ]
  }
 ],
 "metadata": {
  "kernelspec": {
   "display_name": "Python 3",
   "language": "python",
   "name": "python3"
  },
  "language_info": {
   "codemirror_mode": {
    "name": "ipython",
    "version": 3
   },
   "file_extension": ".py",
   "mimetype": "text/x-python",
   "name": "python",
   "nbconvert_exporter": "python",
   "pygments_lexer": "ipython3",
   "version": "3.8.10"
  },
  "orig_nbformat": 4
 },
 "nbformat": 4,
 "nbformat_minor": 2
}
