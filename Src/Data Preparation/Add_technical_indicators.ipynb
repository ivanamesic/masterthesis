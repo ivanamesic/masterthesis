{
 "cells": [
  {
   "cell_type": "code",
   "execution_count": 14,
   "metadata": {},
   "outputs": [],
   "source": [
    "import pandas as pd\n",
    "import numpy as np"
   ]
  },
  {
   "cell_type": "markdown",
   "metadata": {},
   "source": [
    "## Technical indicators for price data"
   ]
  },
  {
   "cell_type": "code",
   "execution_count": 15,
   "metadata": {},
   "outputs": [
    {
     "data": {
      "text/html": [
       "<div>\n",
       "<style scoped>\n",
       "    .dataframe tbody tr th:only-of-type {\n",
       "        vertical-align: middle;\n",
       "    }\n",
       "\n",
       "    .dataframe tbody tr th {\n",
       "        vertical-align: top;\n",
       "    }\n",
       "\n",
       "    .dataframe thead th {\n",
       "        text-align: right;\n",
       "    }\n",
       "</style>\n",
       "<table border=\"1\" class=\"dataframe\">\n",
       "  <thead>\n",
       "    <tr style=\"text-align: right;\">\n",
       "      <th></th>\n",
       "      <th>date</th>\n",
       "      <th>current_price</th>\n",
       "      <th>market_cap</th>\n",
       "      <th>total_volume</th>\n",
       "      <th>close</th>\n",
       "      <th>high</th>\n",
       "      <th>low</th>\n",
       "      <th>open</th>\n",
       "    </tr>\n",
       "  </thead>\n",
       "  <tbody>\n",
       "    <tr>\n",
       "      <th>0</th>\n",
       "      <td>2018-07-03</td>\n",
       "      <td>2.937866</td>\n",
       "      <td>0.000000e+00</td>\n",
       "      <td>3.172538e+06</td>\n",
       "      <td>2.361</td>\n",
       "      <td>3.589</td>\n",
       "      <td>2.033</td>\n",
       "      <td>3.083</td>\n",
       "    </tr>\n",
       "    <tr>\n",
       "      <th>1</th>\n",
       "      <td>2018-07-04</td>\n",
       "      <td>2.047985</td>\n",
       "      <td>0.000000e+00</td>\n",
       "      <td>1.426545e+07</td>\n",
       "      <td>2.255</td>\n",
       "      <td>2.401</td>\n",
       "      <td>2.025</td>\n",
       "      <td>2.345</td>\n",
       "    </tr>\n",
       "    <tr>\n",
       "      <th>2</th>\n",
       "      <td>2018-07-05</td>\n",
       "      <td>1.969392</td>\n",
       "      <td>1.196384e+09</td>\n",
       "      <td>6.492796e+06</td>\n",
       "      <td>1.940</td>\n",
       "      <td>2.396</td>\n",
       "      <td>1.880</td>\n",
       "      <td>2.257</td>\n",
       "    </tr>\n",
       "    <tr>\n",
       "      <th>3</th>\n",
       "      <td>2018-07-06</td>\n",
       "      <td>1.528033</td>\n",
       "      <td>9.282631e+08</td>\n",
       "      <td>8.681129e+06</td>\n",
       "      <td>1.940</td>\n",
       "      <td>2.109</td>\n",
       "      <td>1.419</td>\n",
       "      <td>1.926</td>\n",
       "    </tr>\n",
       "    <tr>\n",
       "      <th>4</th>\n",
       "      <td>2018-07-07</td>\n",
       "      <td>1.796304</td>\n",
       "      <td>1.091235e+09</td>\n",
       "      <td>1.617507e+07</td>\n",
       "      <td>1.989</td>\n",
       "      <td>2.132</td>\n",
       "      <td>1.896</td>\n",
       "      <td>1.945</td>\n",
       "    </tr>\n",
       "  </tbody>\n",
       "</table>\n",
       "</div>"
      ],
      "text/plain": [
       "         date  current_price    market_cap  total_volume  close   high    low  \\\n",
       "0  2018-07-03       2.937866  0.000000e+00  3.172538e+06  2.361  3.589  2.033   \n",
       "1  2018-07-04       2.047985  0.000000e+00  1.426545e+07  2.255  2.401  2.025   \n",
       "2  2018-07-05       1.969392  1.196384e+09  6.492796e+06  1.940  2.396  1.880   \n",
       "3  2018-07-06       1.528033  9.282631e+08  8.681129e+06  1.940  2.109  1.419   \n",
       "4  2018-07-07       1.796304  1.091235e+09  1.617507e+07  1.989  2.132  1.896   \n",
       "\n",
       "    open  \n",
       "0  3.083  \n",
       "1  2.345  \n",
       "2  2.257  \n",
       "3  1.926  \n",
       "4  1.945  "
      ]
     },
     "execution_count": 15,
     "metadata": {},
     "output_type": "execute_result"
    }
   ],
   "source": [
    "df = pd.read_csv(\"../../Data/Tezos/Processed/MarketAndPrice.csv\")\n",
    "df.head()"
   ]
  },
  {
   "cell_type": "markdown",
   "metadata": {},
   "source": [
    "### Adding daily price change parameters"
   ]
  },
  {
   "cell_type": "code",
   "execution_count": 16,
   "metadata": {},
   "outputs": [],
   "source": [
    "df[\"high_low\"] = df.high - df.low\n",
    "df['high_low_pct'] = df.high/df.low \n",
    "df['daily_change'] = df.close-df.open\n",
    "df['daily_change_pct'] = (df.close-df.open)/df.open"
   ]
  },
  {
   "cell_type": "markdown",
   "metadata": {},
   "source": [
    "### Average true range\n",
    "\n",
    "Calculated for time periods of 7 and 14 days."
   ]
  },
  {
   "cell_type": "code",
   "execution_count": 17,
   "metadata": {},
   "outputs": [],
   "source": [
    "# Calculate the True Range (TR)\n",
    "df[\"high-prevclose\"] = abs(df.high - df.close.shift(1))\n",
    "df['low-prevclose'] = abs(df.low - df.close.shift(1))\n",
    "df['true_range'] = df[['high_low', 'high-prevclose', 'low-prevclose']].max(axis=1)\n",
    "\n",
    "df.drop(['high-prevclose', 'low-prevclose'], axis=1, inplace=True)\n",
    "\n",
    "# Calculate the Average True Range (ATR)\n",
    "df['ATR_7'] = df.true_range.rolling(window=7).mean()\n",
    "df['ATR_14'] = df.true_range.rolling(window=14).mean()\n"
   ]
  },
  {
   "cell_type": "markdown",
   "metadata": {},
   "source": [
    "### Rate of change (ROC)\n",
    "\n",
    "Calculated for lookback periods of 3, 7 and 30 days"
   ]
  },
  {
   "cell_type": "code",
   "execution_count": 18,
   "metadata": {},
   "outputs": [],
   "source": [
    "df['ROC_3'] = (df.close / df.close.shift(3) - 1) * 100\n",
    "df['ROC_7'] = (df.close / df.close.shift(7) - 1) * 100\n",
    "df['ROC_30'] = (df.close / df.close.shift(30) - 1) * 100\n"
   ]
  },
  {
   "cell_type": "markdown",
   "metadata": {},
   "source": [
    "### Moving averages\n",
    "\n",
    "Here 2 types of moving averages are chosen: simple moving average and exponential moving average. For both MAs there are 3 sizes of the sliding windows: 3, 7 and 30 days "
   ]
  },
  {
   "cell_type": "code",
   "execution_count": 19,
   "metadata": {},
   "outputs": [],
   "source": [
    "df['SMA_3'] = df.close.rolling(3).mean()\n",
    "df['SMA_7'] = df.close.rolling(7).mean()\n",
    "df['SMA_30'] = df.close.rolling(30).mean()\n",
    "\n",
    "\n",
    "df['EMA_3'] = df.close.ewm(span=3).mean()\n",
    "df['EMA_7'] = df.close.ewm(span=7).mean()\n",
    "df['EMA_30'] = df.close.ewm(span=30).mean()"
   ]
  },
  {
   "cell_type": "markdown",
   "metadata": {},
   "source": [
    "### Moving Average Convergence Divergence (MACD)\n",
    "\n",
    "Comprised of the MACD line, the signal line and the histogram"
   ]
  },
  {
   "cell_type": "code",
   "execution_count": 20,
   "metadata": {},
   "outputs": [],
   "source": [
    "df[\"MACD\"] = df.EMA_7 - df.EMA_30\n",
    "\n",
    "signal_period = 9\n",
    "df[\"MACD_signal\"] = df.MACD.ewm(span=signal_period, adjust=False).mean()\n",
    "df[\"MACD_hist\"] = df.MACD - df.MACD_signal\n"
   ]
  },
  {
   "cell_type": "markdown",
   "metadata": {},
   "source": [
    "### Relative strength index (RSI)\n",
    "\n",
    "Relative strength index is calculated for look back periods of 7 and 14 days."
   ]
  },
  {
   "cell_type": "code",
   "execution_count": 21,
   "metadata": {},
   "outputs": [],
   "source": [
    "def rsi(df, look_back):\n",
    "    dfc = df.copy()\n",
    "    dfc[\"priceDiff\"] = dfc.close.diff()\n",
    "\n",
    "    dfc['Gain'] = dfc.priceDiff.where(dfc.priceDiff > 0, 0)\n",
    "    dfc['Loss'] = -dfc.priceDiff.where(dfc.priceDiff < 0, 0)\n",
    "\n",
    "    avg_gain = dfc['Gain'].rolling(window=look_back).mean()\n",
    "    avg_loss = dfc['Loss'].rolling(window=look_back).mean()\n",
    "\n",
    "    rs = avg_gain / avg_loss\n",
    "    rsi = 100 - (100 / (1 + rs))\n",
    "    return rsi"
   ]
  },
  {
   "cell_type": "code",
   "execution_count": 22,
   "metadata": {},
   "outputs": [],
   "source": [
    "df['RSI_7'] = rsi(df, 7)\n",
    "df['RSI_14'] = rsi(df, 14)"
   ]
  },
  {
   "cell_type": "markdown",
   "metadata": {},
   "source": [
    "### Rolling standard deviation\n",
    "\n",
    "Calculated for rolling windows of 3, 7 and 30 days."
   ]
  },
  {
   "cell_type": "code",
   "execution_count": 23,
   "metadata": {},
   "outputs": [],
   "source": [
    "df['STD_3'] = df.close.rolling(3).std()\n",
    "df['STD_7'] = df.close.rolling(7).std()\n",
    "df['STD_30'] = df.close.rolling(30).std()"
   ]
  },
  {
   "cell_type": "code",
   "execution_count": 25,
   "metadata": {},
   "outputs": [
    {
     "data": {
      "text/plain": [
       "Index(['date', 'current_price', 'market_cap', 'total_volume', 'close', 'high',\n",
       "       'low', 'open', 'high_low', 'high_low_pct', 'daily_change',\n",
       "       'daily_change_pct', 'true_range', 'ATR_7', 'ATR_14', 'ROC_3', 'ROC_7',\n",
       "       'ROC_30', 'SMA_3', 'SMA_7', 'SMA_30', 'EMA_3', 'EMA_7', 'EMA_30',\n",
       "       'MACD', 'MACD_signal', 'MACD_hist', 'RSI_7', 'RSI_14', 'STD_3', 'STD_7',\n",
       "       'STD_30'],\n",
       "      dtype='object')"
      ]
     },
     "execution_count": 25,
     "metadata": {},
     "output_type": "execute_result"
    }
   ],
   "source": [
    "df.columns"
   ]
  },
  {
   "cell_type": "markdown",
   "metadata": {},
   "source": [
    "### Save the results"
   ]
  },
  {
   "cell_type": "code",
   "execution_count": 27,
   "metadata": {},
   "outputs": [],
   "source": [
    "df.to_csv(\"../../Data/Tezos/Final/MarketAndPriceWithTI.csv\", index=False)\n",
    "df.to_csv(\"../../Data/Tezos/DataFullTimePeriod/MarketAndPriceWithTI.csv\", index=False)\n"
   ]
  }
 ],
 "metadata": {
  "kernelspec": {
   "display_name": "Python 3",
   "language": "python",
   "name": "python3"
  },
  "language_info": {
   "codemirror_mode": {
    "name": "ipython",
    "version": 3
   },
   "file_extension": ".py",
   "mimetype": "text/x-python",
   "name": "python",
   "nbconvert_exporter": "python",
   "pygments_lexer": "ipython3",
   "version": "3.8.10"
  },
  "orig_nbformat": 4
 },
 "nbformat": 4,
 "nbformat_minor": 2
}
