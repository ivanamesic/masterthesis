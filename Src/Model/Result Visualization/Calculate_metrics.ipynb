{
 "cells": [
  {
   "cell_type": "code",
   "execution_count": 1,
   "metadata": {},
   "outputs": [],
   "source": [
    "import sys\n",
    "\n",
    "sys.path.append(\"../../Model/\")\n",
    "\n",
    "import pandas as pd\n",
    "from tqdm import tqdm\n",
    "import numpy as np\n",
    "\n",
    "import modules.latex as latex\n",
    "import matplotlib.pyplot as plt\n",
    "from sklearn.metrics import mean_absolute_error, mean_absolute_percentage_error, mean_squared_error\n",
    "\n",
    "import re\n",
    "import modules.constants as const"
   ]
  },
  {
   "cell_type": "code",
   "execution_count": 2,
   "metadata": {},
   "outputs": [],
   "source": [
    "\n",
    "def get_all_relevant_metrics(row, targets_all, CUTOFF = 0):\n",
    "    prediction = row[6]\n",
    "    targets = targets_all[-len(prediction):]\n",
    "    \n",
    "    if CUTOFF > 0:\n",
    "        prediction = prediction[:CUTOFF]\n",
    "        targets = targets[:CUTOFF]\n",
    "        \n",
    "    row[\"mse\"] = mean_squared_error(y_true = targets, y_pred = prediction)\n",
    "    row[\"rmse\"] = mean_squared_error(y_true = targets, y_pred = prediction, squared= False)\n",
    "    row[\"mae\"] = mean_absolute_error(y_true = targets, y_pred = prediction)\n",
    "    row[\"mape\"] = mean_absolute_percentage_error(y_true = targets, y_pred = prediction)\n",
    "\n",
    "    return row"
   ]
  },
  {
   "cell_type": "code",
   "execution_count": 3,
   "metadata": {},
   "outputs": [],
   "source": [
    "tezos_predictions_dir = \"/mnt/Ivana/Results/Tezos/Predictions/\"\n",
    "tezos_metrics_dir = \"/mnt/Ivana/Results/Tezos/Metrics/\"\n",
    "tezos_input_y_dir = \"/mnt/Ivana/Data/Tezos/ModelInput/y/\"\n",
    "tezos_latex_dir = \"/mnt/Ivana/Results/Tezos/Latex/\"\n",
    "\n",
    "df_y = pd.read_csv(tezos_input_y_dir + \"TargetWithDates.csv\")\n",
    "df_y.Date = pd.to_datetime(df_y.Date)\n",
    "\n",
    "y_test_tezos = df_y.Price.values\n",
    "\n",
    "data_names_tezos = [\"market\", \"network\", \"social\", \"supply\", \"TI\"]\n",
    "\n",
    "file_dict = {\n",
    "    \"Simple Model/Predictions_no_segmentation256.npy\": [\"Simple_no_segmentation_all\", \"Simple_no_segmentation_short\"],\n",
    "    \"Simple Model/Predictions_with_segmentation256.npy\":[\"Simple_with_segmentation_all\", \"Simple_with_segmentation_short\"],\n",
    "    \"Complex/Predictions_complex_no_segmentation.npy\":[\"Complex_no_segmentation_all\", \"Complex_no_segmentation_short\"],\n",
    "    \"Complex/Predictions_complex_with_segmentation.npy\":[\"Complex_with_segmentation_all\", \"Complex_with_segmentation_short\"]\n",
    "}"
   ]
  },
  {
   "cell_type": "code",
   "execution_count": null,
   "metadata": {},
   "outputs": [],
   "source": [
    "for input_file, output_files in file_dict.items():\n",
    "    output_file, output_file2 = output_files\n",
    "    \n",
    "    predictions = np.load(tezos_predictions_dir + input_file, allow_pickle=True)\n",
    "    pred = pd.DataFrame(predictions)\n",
    "    pred.columns = [\"combination_number\"] + data_names_tezos + [\"predictions\"]\n",
    "    pred_all = pred.apply(lambda x: get_all_relevant_metrics(x, y_test_tezos), axis = 1)\n",
    "    pred_short = pred.apply(lambda x: get_all_relevant_metrics(x, y_test_tezos, CUTOFF = 60), axis = 1)\n",
    "\n",
    "    pred_all.drop(\"predictions\", axis = 1, inplace=True)\n",
    "    pred_short.drop(\"predictions\", axis = 1, inplace=True)\n",
    "\n",
    "    pred_all.to_csv(tezos_metrics_dir + output_file + \".csv\", index=False)\n",
    "    pred_short.to_csv(tezos_metrics_dir + output_file2 + \".csv\", index=False)\n",
    "\n",
    "    latex.convert_and_save_df_to_latex(pred_all, tezos_latex_dir + output_file + \".tex\" , caption = output_file)\n",
    "    latex.convert_and_save_df_to_latex(pred_short, tezos_latex_dir + output_file2 + \".tex\", caption=output_file2)"
   ]
  },
  {
   "cell_type": "code",
   "execution_count": null,
   "metadata": {},
   "outputs": [],
   "source": [
    "# yp = pred.loc[11, 6]\n",
    "# y_tgt = y_test_tezos[-len(yp):]\n",
    "# plt.plot(range(len(y_tgt)), y_tgt, color=\"blue\")\n",
    "# plt.plot(range(len(yp)), yp, color=\"red\")\n"
   ]
  },
  {
   "cell_type": "markdown",
   "metadata": {},
   "source": [
    "# CASPER"
   ]
  },
  {
   "cell_type": "code",
   "execution_count": null,
   "metadata": {},
   "outputs": [],
   "source": [
    "casper_predictions_dir = \"/mnt/Ivana/Results/Casper/Predictions/\"\n",
    "casper_metrics_dir = \"/mnt/Ivana/Results/Casper/Metrics/\"\n",
    "casper_input_y_dir = \"/mnt/Ivana/Data/Casper/Final/\"\n",
    "casper_latex_dir = \"/mnt/Ivana/Results/Casper/Latex/\"\n",
    "\n",
    "df_y_casper = pd.read_csv(casper_input_y_dir + \"Market.csv\")\n",
    "\n",
    "# df_y_casper.Date = pd.to_datetime(df_y.Date)\n",
    "y_test_casper = df_y_casper.current_price.values\n",
    "\n",
    "data_names_casper = [\"market\", \"accounts\", \"staking\", \"transactions\", \"TI\"]\n",
    "\n",
    "file_dict = {\n",
    "    \"Predictions_no_segmentation256.npy\": [\"Simple_no_segmentation_all\", \"Simple_no_segmentation_short\"],\n",
    "    \"Predictions_with_segmentation256.npy\":[\"Simple_with_segmentation_all\", \"Simple_with_segmentation_short\"],\n",
    "    \"Predictions_complex_no_segmentation.npy\":[\"Complex_no_segmentation_all\", \"Complex_no_segmentation_short\"],\n",
    "    \"Predictions_complex_with_segmentation.npy\":[\"Complex_with_segmentation_all\", \"Complex_with_segmentation_short\"]\n",
    "}"
   ]
  },
  {
   "cell_type": "code",
   "execution_count": null,
   "metadata": {},
   "outputs": [],
   "source": [
    "for input_file, output_files in file_dict.items():\n",
    "    output_file, output_file2 = output_files\n",
    "    \n",
    "    predictions = np.load(casper_predictions_dir + input_file, allow_pickle=True)\n",
    "    pred = pd.DataFrame(predictions)\n",
    "    pred.columns = [\"combination_number\"] + data_names_casper + [\"predictions\"]\n",
    "    pred_all = pred.apply(lambda x: get_all_relevant_metrics(x, y_test_casper), axis = 1)\n",
    "    pred_short = pred.apply(lambda x: get_all_relevant_metrics(x, y_test_casper, CUTOFF = 60), axis = 1)\n",
    "\n",
    "    pred_all.drop(\"predictions\", axis = 1, inplace=True)\n",
    "    pred_short.drop(\"predictions\", axis = 1, inplace=True)\n",
    "\n",
    "    pred_all.to_csv(casper_metrics_dir + output_file + \".csv\", index=False)\n",
    "    pred_short.to_csv(casper_metrics_dir + output_file2 + \".csv\", index=False)\n",
    "\n",
    "    latex.convert_and_save_df_to_latex(pred_all, casper_latex_dir + output_file + \".tex\" , caption = output_file)\n",
    "    latex.convert_and_save_df_to_latex(pred_short, casper_latex_dir + output_file2 + \".tex\", caption=output_file2)"
   ]
  }
 ],
 "metadata": {
  "kernelspec": {
   "display_name": "Python 3",
   "language": "python",
   "name": "python3"
  },
  "language_info": {
   "codemirror_mode": {
    "name": "ipython",
    "version": 3
   },
   "file_extension": ".py",
   "mimetype": "text/x-python",
   "name": "python",
   "nbconvert_exporter": "python",
   "pygments_lexer": "ipython3",
   "version": "3.8.10"
  },
  "orig_nbformat": 4
 },
 "nbformat": 4,
 "nbformat_minor": 2
}
