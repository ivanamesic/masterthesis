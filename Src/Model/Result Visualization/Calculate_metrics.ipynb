{
 "cells": [
  {
   "cell_type": "code",
   "execution_count": 1,
   "metadata": {},
   "outputs": [],
   "source": [
    "import sys\n",
    "\n",
    "sys.path.append(\"../../Model/\")\n",
    "\n",
    "import pandas as pd\n",
    "from tqdm import tqdm\n",
    "import numpy as np\n",
    "\n",
    "import modules.latex as latex\n",
    "import matplotlib.pyplot as plt\n",
    "from sklearn.metrics import mean_absolute_error, mean_absolute_percentage_error, mean_squared_error\n",
    "\n",
    "import re\n",
    "import modules.constants as const"
   ]
  },
  {
   "cell_type": "code",
   "execution_count": 2,
   "metadata": {},
   "outputs": [],
   "source": [
    "\n",
    "def get_all_relevant_metrics(row, targets_all, CUTOFF = 0):\n",
    "    prediction = row[6]\n",
    "    targets = targets_all[-len(prediction):]\n",
    "    \n",
    "    if CUTOFF > 0:\n",
    "        prediction = prediction[:CUTOFF]\n",
    "        targets = targets[:CUTOFF]\n",
    "        \n",
    "    row[\"mse\"] = mean_squared_error(y_true = targets, y_pred = prediction)\n",
    "    row[\"rmse\"] = mean_squared_error(y_true = targets, y_pred = prediction, squared= False)\n",
    "    row[\"mae\"] = mean_absolute_error(y_true = targets, y_pred = prediction)\n",
    "    row[\"mape\"] = mean_absolute_percentage_error(y_true = targets, y_pred = prediction)\n",
    "\n",
    "    return row"
   ]
  },
  {
   "cell_type": "code",
   "execution_count": 3,
   "metadata": {},
   "outputs": [],
   "source": [
    "tezos_predictions_dir = \"/mnt/Ivana/Results/Tezos/Predictions/\"\n",
    "tezos_metrics_dir = \"/mnt/Ivana/Results/Tezos/Metrics/\"\n",
    "tezos_input_y_dir = \"/mnt/Ivana/Data/Tezos/ModelInput/y/\"\n",
    "tezos_latex_dir = \"/mnt/Ivana/Results/Tezos/Latex/\"\n",
    "\n",
    "df_y = pd.read_csv(tezos_input_y_dir + \"TargetWithDates.csv\")\n",
    "df_y.Date = pd.to_datetime(df_y.Date)\n",
    "\n",
    "y_test_tezos = df_y.Price.values\n",
    "\n",
    "data_names_tezos = [\"market\", \"network\", \"social\", \"supply\", \"TI\"]\n",
    "\n",
    "file_dict = {\n",
    "    \"Simple Model/Predictions_no_segmentation256.npy\": [\"Simple_no_segmentation_all\", \"Simple_no_segmentation_short\"],\n",
    "    \"Simple Model/Predictions_with_segmentation256.npy\":[\"Simple_with_segmentation_all\", \"Simple_with_segmentation_short\"],\n",
    "    \"Complex/Predictions_complex_no_segmentation.npy\":[\"Complex_no_segmentation_all\", \"Complex_no_segmentation_short\"],\n",
    "    \"Complex/Predictions_complex_with_segmentation.npy\":[\"Complex_with_segmentation_all\", \"Complex_with_segmentation_short\"]\n",
    "}"
   ]
  },
  {
   "cell_type": "code",
   "execution_count": 4,
   "metadata": {},
   "outputs": [
    {
     "ename": "FileNotFoundError",
     "evalue": "[Errno 2] No such file or directory: '/mnt/Ivana/Results/Tezos/Predictions/Simple Model/Predictions_no_segmentation256.npy'",
     "output_type": "error",
     "traceback": [
      "\u001b[0;31m---------------------------------------------------------------------------\u001b[0m",
      "\u001b[0;31mFileNotFoundError\u001b[0m                         Traceback (most recent call last)",
      "\u001b[1;32m/mnt/Ivana/Src/Model/Result Visualization/Calculate_metrics.ipynb Cell 4\u001b[0m line \u001b[0;36m4\n\u001b[1;32m      <a href='vscode-notebook-cell://ssh-remote%2B172.23.179.174/mnt/Ivana/Src/Model/Result%20Visualization/Calculate_metrics.ipynb#W3sdnNjb2RlLXJlbW90ZQ%3D%3D?line=0'>1</a>\u001b[0m \u001b[39mfor\u001b[39;00m input_file, output_files \u001b[39min\u001b[39;00m file_dict\u001b[39m.\u001b[39mitems():\n\u001b[1;32m      <a href='vscode-notebook-cell://ssh-remote%2B172.23.179.174/mnt/Ivana/Src/Model/Result%20Visualization/Calculate_metrics.ipynb#W3sdnNjb2RlLXJlbW90ZQ%3D%3D?line=1'>2</a>\u001b[0m     output_file, output_file2 \u001b[39m=\u001b[39m output_files\n\u001b[0;32m----> <a href='vscode-notebook-cell://ssh-remote%2B172.23.179.174/mnt/Ivana/Src/Model/Result%20Visualization/Calculate_metrics.ipynb#W3sdnNjb2RlLXJlbW90ZQ%3D%3D?line=3'>4</a>\u001b[0m     predictions \u001b[39m=\u001b[39m np\u001b[39m.\u001b[39;49mload(tezos_predictions_dir \u001b[39m+\u001b[39;49m input_file, allow_pickle\u001b[39m=\u001b[39;49m\u001b[39mTrue\u001b[39;49;00m)\n\u001b[1;32m      <a href='vscode-notebook-cell://ssh-remote%2B172.23.179.174/mnt/Ivana/Src/Model/Result%20Visualization/Calculate_metrics.ipynb#W3sdnNjb2RlLXJlbW90ZQ%3D%3D?line=4'>5</a>\u001b[0m     pred \u001b[39m=\u001b[39m pd\u001b[39m.\u001b[39mDataFrame(predictions)\n\u001b[1;32m      <a href='vscode-notebook-cell://ssh-remote%2B172.23.179.174/mnt/Ivana/Src/Model/Result%20Visualization/Calculate_metrics.ipynb#W3sdnNjb2RlLXJlbW90ZQ%3D%3D?line=5'>6</a>\u001b[0m     pred\u001b[39m.\u001b[39mcolumns \u001b[39m=\u001b[39m [\u001b[39m\"\u001b[39m\u001b[39mcombination_number\u001b[39m\u001b[39m\"\u001b[39m] \u001b[39m+\u001b[39m data_names_tezos \u001b[39m+\u001b[39m [\u001b[39m\"\u001b[39m\u001b[39mpredictions\u001b[39m\u001b[39m\"\u001b[39m]\n",
      "File \u001b[0;32m~/.local/lib/python3.8/site-packages/numpy/lib/npyio.py:390\u001b[0m, in \u001b[0;36mload\u001b[0;34m(file, mmap_mode, allow_pickle, fix_imports, encoding)\u001b[0m\n\u001b[1;32m    388\u001b[0m     own_fid \u001b[39m=\u001b[39m \u001b[39mFalse\u001b[39;00m\n\u001b[1;32m    389\u001b[0m \u001b[39melse\u001b[39;00m:\n\u001b[0;32m--> 390\u001b[0m     fid \u001b[39m=\u001b[39m stack\u001b[39m.\u001b[39menter_context(\u001b[39mopen\u001b[39;49m(os_fspath(file), \u001b[39m\"\u001b[39;49m\u001b[39mrb\u001b[39;49m\u001b[39m\"\u001b[39;49m))\n\u001b[1;32m    391\u001b[0m     own_fid \u001b[39m=\u001b[39m \u001b[39mTrue\u001b[39;00m\n\u001b[1;32m    393\u001b[0m \u001b[39m# Code to distinguish from NumPy binary files and pickles.\u001b[39;00m\n",
      "\u001b[0;31mFileNotFoundError\u001b[0m: [Errno 2] No such file or directory: '/mnt/Ivana/Results/Tezos/Predictions/Simple Model/Predictions_no_segmentation256.npy'"
     ]
    }
   ],
   "source": [
    "for input_file, output_files in file_dict.items():\n",
    "    output_file, output_file2 = output_files\n",
    "    \n",
    "    predictions = np.load(tezos_predictions_dir + input_file, allow_pickle=True)\n",
    "    pred = pd.DataFrame(predictions)\n",
    "    pred.columns = [\"combination_number\"] + data_names_tezos + [\"predictions\"]\n",
    "    pred_all = pred.apply(lambda x: get_all_relevant_metrics(x, y_test_tezos), axis = 1)\n",
    "    pred_short = pred.apply(lambda x: get_all_relevant_metrics(x, y_test_tezos, CUTOFF = 60), axis = 1)\n",
    "\n",
    "    pred_all.drop(\"predictions\", axis = 1, inplace=True)\n",
    "    pred_short.drop(\"predictions\", axis = 1, inplace=True)\n",
    "\n",
    "    pred_all.to_csv(tezos_metrics_dir + output_file + \".csv\", index=False)\n",
    "    pred_short.to_csv(tezos_metrics_dir + output_file2 + \".csv\", index=False)\n",
    "\n",
    "    latex.convert_and_save_df_to_latex(pred_all, tezos_latex_dir + output_file + \".tex\" , caption = output_file)\n",
    "    latex.convert_and_save_df_to_latex(pred_short, tezos_latex_dir + output_file2 + \".tex\", caption=output_file2)"
   ]
  },
  {
   "cell_type": "code",
   "execution_count": null,
   "metadata": {},
   "outputs": [],
   "source": [
    "# yp = pred.loc[11, 6]\n",
    "# y_tgt = y_test_tezos[-len(yp):]\n",
    "# plt.plot(range(len(y_tgt)), y_tgt, color=\"blue\")\n",
    "# plt.plot(range(len(yp)), yp, color=\"red\")\n"
   ]
  },
  {
   "cell_type": "markdown",
   "metadata": {},
   "source": [
    "# CASPER"
   ]
  },
  {
   "cell_type": "code",
   "execution_count": null,
   "metadata": {},
   "outputs": [],
   "source": [
    "casper_predictions_dir = \"/mnt/Ivana/Results/Casper/Predictions/\"\n",
    "casper_metrics_dir = \"/mnt/Ivana/Results/Casper/Metrics/\"\n",
    "casper_input_y_dir = \"/mnt/Ivana/Data/Casper/Final/\"\n",
    "casper_latex_dir = \"/mnt/Ivana/Results/Casper/Latex/\"\n",
    "\n",
    "df_y_casper = pd.read_csv(casper_input_y_dir + \"Market.csv\")\n",
    "\n",
    "# df_y_casper.Date = pd.to_datetime(df_y.Date)\n",
    "y_test_casper = df_y_casper.current_price.values\n",
    "\n",
    "data_names_casper = [\"market\", \"accounts\", \"staking\", \"transactions\", \"TI\"]\n",
    "\n",
    "file_dict = {\n",
    "    \"Predictions_no_segmentation256.npy\": [\"Simple_no_segmentation_all\", \"Simple_no_segmentation_short\"],\n",
    "    \"Predictions_with_segmentation256.npy\":[\"Simple_with_segmentation_all\", \"Simple_with_segmentation_short\"],\n",
    "    \"Predictions_complex_no_segmentation.npy\":[\"Complex_no_segmentation_all\", \"Complex_no_segmentation_short\"],\n",
    "    \"Predictions_complex_with_segmentation.npy\":[\"Complex_with_segmentation_all\", \"Complex_with_segmentation_short\"]\n",
    "}"
   ]
  },
  {
   "cell_type": "code",
   "execution_count": null,
   "metadata": {},
   "outputs": [
    {
     "name": "stderr",
     "output_type": "stream",
     "text": [
      "/mnt/Ivana/Src/Model/Result Visualization/../../Model/modules/latex.py:61: FutureWarning: In future versions `DataFrame.to_latex` is expected to utilise the base implementation of `Styler.to_latex` for formatting and rendering. The arguments signature may therefore change. It is recommended instead to use `DataFrame.style.to_latex` which also contains additional functionality.\n",
      "  tabular_tex = df_formatted.to_latex(index=False, escape=False)\n",
      "/mnt/Ivana/Src/Model/Result Visualization/../../Model/modules/latex.py:61: FutureWarning: In future versions `DataFrame.to_latex` is expected to utilise the base implementation of `Styler.to_latex` for formatting and rendering. The arguments signature may therefore change. It is recommended instead to use `DataFrame.style.to_latex` which also contains additional functionality.\n",
      "  tabular_tex = df_formatted.to_latex(index=False, escape=False)\n",
      "/mnt/Ivana/Src/Model/Result Visualization/../../Model/modules/latex.py:61: FutureWarning: In future versions `DataFrame.to_latex` is expected to utilise the base implementation of `Styler.to_latex` for formatting and rendering. The arguments signature may therefore change. It is recommended instead to use `DataFrame.style.to_latex` which also contains additional functionality.\n",
      "  tabular_tex = df_formatted.to_latex(index=False, escape=False)\n",
      "/mnt/Ivana/Src/Model/Result Visualization/../../Model/modules/latex.py:61: FutureWarning: In future versions `DataFrame.to_latex` is expected to utilise the base implementation of `Styler.to_latex` for formatting and rendering. The arguments signature may therefore change. It is recommended instead to use `DataFrame.style.to_latex` which also contains additional functionality.\n",
      "  tabular_tex = df_formatted.to_latex(index=False, escape=False)\n",
      "/mnt/Ivana/Src/Model/Result Visualization/../../Model/modules/latex.py:61: FutureWarning: In future versions `DataFrame.to_latex` is expected to utilise the base implementation of `Styler.to_latex` for formatting and rendering. The arguments signature may therefore change. It is recommended instead to use `DataFrame.style.to_latex` which also contains additional functionality.\n",
      "  tabular_tex = df_formatted.to_latex(index=False, escape=False)\n",
      "/mnt/Ivana/Src/Model/Result Visualization/../../Model/modules/latex.py:61: FutureWarning: In future versions `DataFrame.to_latex` is expected to utilise the base implementation of `Styler.to_latex` for formatting and rendering. The arguments signature may therefore change. It is recommended instead to use `DataFrame.style.to_latex` which also contains additional functionality.\n",
      "  tabular_tex = df_formatted.to_latex(index=False, escape=False)\n",
      "/mnt/Ivana/Src/Model/Result Visualization/../../Model/modules/latex.py:61: FutureWarning: In future versions `DataFrame.to_latex` is expected to utilise the base implementation of `Styler.to_latex` for formatting and rendering. The arguments signature may therefore change. It is recommended instead to use `DataFrame.style.to_latex` which also contains additional functionality.\n",
      "  tabular_tex = df_formatted.to_latex(index=False, escape=False)\n",
      "/mnt/Ivana/Src/Model/Result Visualization/../../Model/modules/latex.py:61: FutureWarning: In future versions `DataFrame.to_latex` is expected to utilise the base implementation of `Styler.to_latex` for formatting and rendering. The arguments signature may therefore change. It is recommended instead to use `DataFrame.style.to_latex` which also contains additional functionality.\n",
      "  tabular_tex = df_formatted.to_latex(index=False, escape=False)\n"
     ]
    }
   ],
   "source": [
    "for input_file, output_files in file_dict.items():\n",
    "    output_file, output_file2 = output_files\n",
    "    \n",
    "    predictions = np.load(casper_predictions_dir + input_file, allow_pickle=True)\n",
    "    pred = pd.DataFrame(predictions)\n",
    "    pred.columns = [\"combination_number\"] + data_names_casper + [\"predictions\"]\n",
    "    pred_all = pred.apply(lambda x: get_all_relevant_metrics(x, y_test_casper), axis = 1)\n",
    "    pred_short = pred.apply(lambda x: get_all_relevant_metrics(x, y_test_casper, CUTOFF = 60), axis = 1)\n",
    "\n",
    "    pred_all.drop(\"predictions\", axis = 1, inplace=True)\n",
    "    pred_short.drop(\"predictions\", axis = 1, inplace=True)\n",
    "\n",
    "    pred_all.to_csv(casper_metrics_dir + output_file + \".csv\", index=False)\n",
    "    pred_short.to_csv(casper_metrics_dir + output_file2 + \".csv\", index=False)\n",
    "\n",
    "    latex.convert_and_save_df_to_latex(pred_all, casper_latex_dir + output_file + \".tex\" , caption = output_file)\n",
    "    latex.convert_and_save_df_to_latex(pred_short, casper_latex_dir + output_file2 + \".tex\", caption=output_file2)"
   ]
  }
 ],
 "metadata": {
  "kernelspec": {
   "display_name": "Python 3",
   "language": "python",
   "name": "python3"
  },
  "language_info": {
   "codemirror_mode": {
    "name": "ipython",
    "version": 3
   },
   "file_extension": ".py",
   "mimetype": "text/x-python",
   "name": "python",
   "nbconvert_exporter": "python",
   "pygments_lexer": "ipython3",
   "version": "3.8.10"
  },
  "orig_nbformat": 4
 },
 "nbformat": 4,
 "nbformat_minor": 2
}
