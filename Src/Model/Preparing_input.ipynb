{
 "cells": [
  {
   "cell_type": "markdown",
   "metadata": {},
   "source": [
    "# Preprocessing data for LSTM"
   ]
  },
  {
   "cell_type": "code",
   "execution_count": 2,
   "metadata": {},
   "outputs": [],
   "source": [
    "import numpy as np\n",
    "import pandas as pd\n",
    "from sklearn.preprocessing import MinMaxScaler\n",
    "import math\n",
    "from keras.src.preprocessing.sequence import TimeseriesGenerator\n"
   ]
  },
  {
   "cell_type": "markdown",
   "metadata": {},
   "source": [
    "### Steps\n",
    "1. Load data <br>\n",
    "2. Drop time <br>\n",
    "3. Normalize data <br>\n",
    "4. Split into samples <br>\n",
    "5. Reshape data "
   ]
  },
  {
   "cell_type": "markdown",
   "metadata": {},
   "source": [
    "## 1. Load data, remove Date column and convert to numpy format"
   ]
  },
  {
   "cell_type": "code",
   "execution_count": null,
   "metadata": {},
   "outputs": [],
   "source": [
    "df = pd.read_csv()\n",
    "df.drop([\"Date\"], inplace=True, axis=1)\n",
    "data = df.to_numpy()"
   ]
  },
  {
   "cell_type": "code",
   "execution_count": 12,
   "metadata": {},
   "outputs": [],
   "source": [
    "data = np.array([\n",
    " [0.1, 1.0, 112],\n",
    " [0.2, 0.9, 321],\n",
    " [0.3, 0.8, 453],\n",
    " [0.42, 0.9, 512]\n",
    "])\n",
    "\n",
    "target = np.array([1,0,1,1])"
   ]
  },
  {
   "cell_type": "markdown",
   "metadata": {},
   "source": [
    "### Split data into training and testing sets"
   ]
  },
  {
   "cell_type": "code",
   "execution_count": 23,
   "metadata": {},
   "outputs": [],
   "source": [
    "# Input parameters: \n",
    "#       data - input data that has to be split into train and test sets\n",
    "#       test_size - percentage of the input data that will be used for testing\n",
    "def train_test_split(data, test_size):\n",
    "    data_len = data.shape[0]\n",
    "    split_index = math.ceil(data_len*(1-test_size))\n",
    "\n",
    "    if data.shape[1] > 1:\n",
    "        return data[:split_index, ], data[split_index:, ]\n",
    "    else:\n",
    "        return data[:split_index], data[split_index:]\n"
   ]
  },
  {
   "cell_type": "code",
   "execution_count": 24,
   "metadata": {},
   "outputs": [
    {
     "name": "stdout",
     "output_type": "stream",
     "text": [
      "[[1.00e-01 1.00e+00 1.12e+02]\n",
      " [2.00e-01 9.00e-01 3.21e+02]\n",
      " [3.00e-01 8.00e-01 4.53e+02]]\n"
     ]
    }
   ],
   "source": [
    "test_size = 0.3\n",
    "\n",
    "X_train, X_test = train_test_split(data, test_size)\n",
    "y_train, y_test = train_test_split(target, test_size)\n"
   ]
  },
  {
   "cell_type": "markdown",
   "metadata": {},
   "source": [
    "## 2. Normalize the data\n",
    "\n",
    "Min-max scaler is used for normalizing the data. The scaler is fit on the training data, and the fitted scaler is applied to test data. Target variable does not need to be scaled."
   ]
  },
  {
   "cell_type": "code",
   "execution_count": null,
   "metadata": {},
   "outputs": [],
   "source": [
    "min_max_scaler = MinMaxScaler()\n",
    "X_train_scaled = min_max_scaler.fit_transform(X_train)\n",
    "X_test_scaled = min_max_scaler.transform(X_test)"
   ]
  },
  {
   "cell_type": "code",
   "execution_count": null,
   "metadata": {},
   "outputs": [],
   "source": [
    "# Reshape the data\n",
    "\n",
    "# n = number of samples: LSTMs dont like sequences of more than 200-400 time steps, split data into samples\n",
    "n = 1\n",
    "# t = number of timesteps / number of days in the training set\n",
    "t = 365\n",
    "# f = number of input features\n",
    "f = 3\n",
    "\n",
    "data.reshape(n, t, f)"
   ]
  },
  {
   "cell_type": "markdown",
   "metadata": {},
   "source": [
    "## Create samples and reshape data"
   ]
  },
  {
   "cell_type": "code",
   "execution_count": 27,
   "metadata": {},
   "outputs": [
    {
     "ename": "NameError",
     "evalue": "name 'TimeseriesGenerator' is not defined",
     "output_type": "error",
     "traceback": [
      "\u001b[1;31m---------------------------------------------------------------------------\u001b[0m",
      "\u001b[1;31mNameError\u001b[0m                                 Traceback (most recent call last)",
      "\u001b[1;32mc:\\Users\\imesic\\OneDrive - Zanders-BV\\Documents\\Projects\\Crypto CRA\\LSTM.ipynb Cell 14\u001b[0m in \u001b[0;36m<cell line: 1>\u001b[1;34m()\u001b[0m\n\u001b[1;32m----> <a href='vscode-notebook-cell:/c%3A/Users/imesic/OneDrive%20-%20Zanders-BV/Documents/Projects/Crypto%20CRA/LSTM.ipynb#X21sZmlsZQ%3D%3D?line=0'>1</a>\u001b[0m data_gen \u001b[39m=\u001b[39m TimeseriesGenerator(data, target,\n\u001b[0;32m      <a href='vscode-notebook-cell:/c%3A/Users/imesic/OneDrive%20-%20Zanders-BV/Documents/Projects/Crypto%20CRA/LSTM.ipynb#X21sZmlsZQ%3D%3D?line=1'>2</a>\u001b[0m                                length\u001b[39m=\u001b[39m\u001b[39m10\u001b[39m, sampling_rate\u001b[39m=\u001b[39m\u001b[39m2\u001b[39m,\n\u001b[0;32m      <a href='vscode-notebook-cell:/c%3A/Users/imesic/OneDrive%20-%20Zanders-BV/Documents/Projects/Crypto%20CRA/LSTM.ipynb#X21sZmlsZQ%3D%3D?line=2'>3</a>\u001b[0m                                batch_size\u001b[39m=\u001b[39m\u001b[39m2\u001b[39m)\n\u001b[0;32m      <a href='vscode-notebook-cell:/c%3A/Users/imesic/OneDrive%20-%20Zanders-BV/Documents/Projects/Crypto%20CRA/LSTM.ipynb#X21sZmlsZQ%3D%3D?line=3'>4</a>\u001b[0m data_gen\n",
      "\u001b[1;31mNameError\u001b[0m: name 'TimeseriesGenerator' is not defined"
     ]
    }
   ],
   "source": [
    "\n",
    "data_gen = TimeseriesGenerator(data, target,\n",
    "                               length=10, sampling_rate=2,\n",
    "                               batch_size=2)\n",
    "data_gen"
   ]
  }
 ],
 "metadata": {
  "kernelspec": {
   "display_name": "Python 3",
   "language": "python",
   "name": "python3"
  },
  "language_info": {
   "codemirror_mode": {
    "name": "ipython",
    "version": 3
   },
   "file_extension": ".py",
   "mimetype": "text/x-python",
   "name": "python",
   "nbconvert_exporter": "python",
   "pygments_lexer": "ipython3",
   "version": "3.10.4"
  },
  "orig_nbformat": 4
 },
 "nbformat": 4,
 "nbformat_minor": 2
}
