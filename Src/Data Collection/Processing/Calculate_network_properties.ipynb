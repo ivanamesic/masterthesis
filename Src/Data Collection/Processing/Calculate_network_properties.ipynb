{
 "cells": [
  {
   "cell_type": "code",
   "execution_count": 11,
   "metadata": {},
   "outputs": [],
   "source": [
    "import pandas as pd\n",
    "import networkx as nx\n",
    "\n",
    "transactions_dir = \"../../../Data/Temp/Transactions_tzstats/\""
   ]
  },
  {
   "cell_type": "code",
   "execution_count": 8,
   "metadata": {},
   "outputs": [],
   "source": [
    "df = pd.read_csv(transactions_dir + \"Tx_01-2019.csv\")"
   ]
  },
  {
   "cell_type": "code",
   "execution_count": 10,
   "metadata": {},
   "outputs": [],
   "source": [
    "df = df[df.is_success == 1]"
   ]
  },
  {
   "cell_type": "code",
   "execution_count": 26,
   "metadata": {},
   "outputs": [],
   "source": [
    "nodes = set(df.sender.unique()).union(df.receiver.unique())\n",
    "edges = df.apply(lambda x: (x['sender'], x['receiver']), axis = 1).tolist()"
   ]
  },
  {
   "cell_type": "code",
   "execution_count": 27,
   "metadata": {},
   "outputs": [],
   "source": [
    "G = nx.Graph()\n",
    "G.add_nodes_from(nodes)\n",
    "G.add_edges_from(edges)"
   ]
  },
  {
   "cell_type": "code",
   "execution_count": 30,
   "metadata": {},
   "outputs": [],
   "source": [
    "nodes_sorted = sorted(nodes)\n",
    "\n",
    "shortest_path = len(nodes_sorted)\n",
    "for i in range(len(nodes_sorted)):\n",
    "    for j in range(i+1, len(nodes_sorted)):\n",
    "\n",
    "        try:\n",
    "            path = nx.shortest_path_length(G, source=nodes_sorted[i], target=nodes_sorted[j])\n",
    "            shortest_path = min(path, shortest_path)\n",
    "        except:\n",
    "            continue"
   ]
  }
 ],
 "metadata": {
  "kernelspec": {
   "display_name": "Python 3",
   "language": "python",
   "name": "python3"
  },
  "language_info": {
   "codemirror_mode": {
    "name": "ipython",
    "version": 3
   },
   "file_extension": ".py",
   "mimetype": "text/x-python",
   "name": "python",
   "nbconvert_exporter": "python",
   "pygments_lexer": "ipython3",
   "version": "3.8.10"
  },
  "orig_nbformat": 4
 },
 "nbformat": 4,
 "nbformat_minor": 2
}
