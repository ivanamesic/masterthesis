{
 "cells": [
  {
   "cell_type": "code",
   "execution_count": 2,
   "metadata": {},
   "outputs": [],
   "source": [
    "import pandas as pd\n",
    "\n",
    "\n",
    "processed_dir = \"../../Data/Tezos/Processed/\"\n",
    "raw_dir = \"../../Data/Tezos/Raw_data/\"\n",
    "final_dir = \"../../Data/Tezos/Final/\""
   ]
  },
  {
   "cell_type": "code",
   "execution_count": 4,
   "metadata": {},
   "outputs": [
    {
     "name": "stderr",
     "output_type": "stream",
     "text": [
      "/tmp/ipykernel_34596/3674169998.py:4: SettingWithCopyWarning: \n",
      "A value is trying to be set on a copy of a slice from a DataFrame.\n",
      "Try using .loc[row_indexer,col_indexer] = value instead\n",
      "\n",
      "See the caveats in the documentation: https://pandas.pydata.org/pandas-docs/stable/user_guide/indexing.html#returning-a-view-versus-a-copy\n",
      "  df_level_time.timestamp = pd.to_datetime(df_level_time.timestamp, format=\"%Y-%m-%dT%H:%M:%SZ\")\n",
      "/tmp/ipykernel_34596/3674169998.py:5: SettingWithCopyWarning: \n",
      "A value is trying to be set on a copy of a slice from a DataFrame.\n",
      "Try using .loc[row_indexer,col_indexer] = value instead\n",
      "\n",
      "See the caveats in the documentation: https://pandas.pydata.org/pandas-docs/stable/user_guide/indexing.html#returning-a-view-versus-a-copy\n",
      "  df_level_time[\"date\"] = df_level_time.timestamp.apply(lambda x: x.date())\n",
      "/tmp/ipykernel_34596/3674169998.py:7: SettingWithCopyWarning: \n",
      "A value is trying to be set on a copy of a slice from a DataFrame\n",
      "\n",
      "See the caveats in the documentation: https://pandas.pydata.org/pandas-docs/stable/user_guide/indexing.html#returning-a-view-versus-a-copy\n",
      "  df_level_time.drop([\"timestamp\"], axis=1, inplace=True)\n"
     ]
    }
   ],
   "source": [
    "df_blocks = pd.read_csv(raw_dir + \"TZ_Blocks.csv\")\n",
    "\n",
    "df_level_time = df_blocks[[\"level\", \"timestamp\"]]\n",
    "df_level_time.timestamp = pd.to_datetime(df_level_time.timestamp, format=\"%Y-%m-%dT%H:%M:%SZ\")\n",
    "df_level_time[\"date\"] = df_level_time.timestamp.apply(lambda x: x.date())\n",
    "\n",
    "df_level_time.drop([\"timestamp\"], axis=1, inplace=True)\n"
   ]
  },
  {
   "cell_type": "markdown",
   "metadata": {},
   "source": [
    "## Convert contract per level data to daily"
   ]
  },
  {
   "cell_type": "code",
   "execution_count": null,
   "metadata": {},
   "outputs": [],
   "source": [
    "df_contracts = pd.read_csv(processed_dir + \"Contracts_per_level.csv\")\n"
   ]
  },
  {
   "cell_type": "code",
   "execution_count": null,
   "metadata": {},
   "outputs": [
    {
     "name": "stderr",
     "output_type": "stream",
     "text": [
      "/tmp/ipykernel_1288264/2576669266.py:1: SettingWithCopyWarning: \n",
      "A value is trying to be set on a copy of a slice from a DataFrame\n",
      "\n",
      "See the caveats in the documentation: https://pandas.pydata.org/pandas-docs/stable/user_guide/indexing.html#returning-a-view-versus-a-copy\n",
      "  df_level_time.drop([\"timestamp\"], axis=1, inplace=True)\n"
     ]
    }
   ],
   "source": [
    "df_result = pd.merge(df_contracts, df_level_time, how=\"left\", on=\"level\")"
   ]
  },
  {
   "cell_type": "code",
   "execution_count": 18,
   "metadata": {},
   "outputs": [],
   "source": [
    "df_result = df_result[~df_result.date.isna()]"
   ]
  },
  {
   "cell_type": "code",
   "execution_count": 22,
   "metadata": {},
   "outputs": [],
   "source": [
    "agg = {}\n",
    "for i in ['new_assets', 'new_delegator_contracts', 'new_smart_contracts']:\n",
    "    agg[i] = \"sum\"\n",
    "\n",
    "for i in ['total_assets', 'total_delegator_contracts', 'total_smart_contracts']:\n",
    "    agg[i] = \"last\"\n",
    "\n",
    "daily_stats = df_result.groupby(\"date\").agg(agg).reset_index()"
   ]
  },
  {
   "cell_type": "code",
   "execution_count": 26,
   "metadata": {},
   "outputs": [],
   "source": [
    "daily_stats.to_csv(final_dir + \"Contract_data_daily.csv\", index= False)"
   ]
  },
  {
   "cell_type": "markdown",
   "metadata": {},
   "source": [
    "## Convert voting data from block to daily stats"
   ]
  },
  {
   "cell_type": "code",
   "execution_count": 5,
   "metadata": {},
   "outputs": [],
   "source": [
    "df_voting = pd.read_csv(processed_dir + \"Voting_by_block.csv\")"
   ]
  },
  {
   "cell_type": "code",
   "execution_count": 35,
   "metadata": {},
   "outputs": [],
   "source": [
    "df_result2 = pd.merge(df_voting, df_level_time, how=\"left\", on=\"level\")"
   ]
  },
  {
   "cell_type": "code",
   "execution_count": 39,
   "metadata": {},
   "outputs": [],
   "source": [
    "df_result2 = df_result2[~df_result2.date.isna()]\n",
    "df_result2.fillna(0, inplace=True)\n",
    "\n",
    "agg = {}\n",
    "for i in df_result2.columns:\n",
    "    if i==\"level\" or i==\"date\": continue\n",
    "    agg[i] = \"last\"\n",
    "\n",
    "daily_stats_voting = df_result2.groupby(\"date\").agg(agg).reset_index()"
   ]
  },
  {
   "cell_type": "code",
   "execution_count": 42,
   "metadata": {},
   "outputs": [],
   "source": [
    "daily_stats_voting.to_csv(final_dir + \"Voting_daily_stats.csv\", index = False)"
   ]
  }
 ],
 "metadata": {
  "kernelspec": {
   "display_name": "Python 3",
   "language": "python",
   "name": "python3"
  },
  "language_info": {
   "codemirror_mode": {
    "name": "ipython",
    "version": 3
   },
   "file_extension": ".py",
   "mimetype": "text/x-python",
   "name": "python",
   "nbconvert_exporter": "python",
   "pygments_lexer": "ipython3",
   "version": "3.8.10"
  },
  "orig_nbformat": 4
 },
 "nbformat": 4,
 "nbformat_minor": 2
}
