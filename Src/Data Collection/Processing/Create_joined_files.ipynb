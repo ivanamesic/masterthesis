{
 "cells": [
  {
   "cell_type": "code",
   "execution_count": 2,
   "metadata": {},
   "outputs": [],
   "source": [
    "import pandas as pd"
   ]
  },
  {
   "cell_type": "code",
   "execution_count": 3,
   "metadata": {},
   "outputs": [],
   "source": [
    "src_dir = \"../../Data/Tezos/Processed/\"\n",
    "dest_dir = \"../../Data/Tezos/Final/\""
   ]
  },
  {
   "cell_type": "markdown",
   "metadata": {},
   "source": [
    "## Join Voting data"
   ]
  },
  {
   "cell_type": "code",
   "execution_count": 11,
   "metadata": {},
   "outputs": [],
   "source": [
    "df1 = pd.read_csv(src_dir + \"Voting_daily_stats.csv\")\n",
    "df2 = pd.read_csv(src_dir + \"Tzstats_voting_daily.csv\")"
   ]
  },
  {
   "cell_type": "code",
   "execution_count": 13,
   "metadata": {},
   "outputs": [],
   "source": [
    "df = pd.concat([df1, df2], axis= 1)\n",
    "df.to_csv(dest_dir + \"Voting.csv\", index=False)"
   ]
  },
  {
   "cell_type": "markdown",
   "metadata": {},
   "source": [
    "## Supply data"
   ]
  },
  {
   "cell_type": "code",
   "execution_count": 14,
   "metadata": {},
   "outputs": [
    {
     "data": {
      "text/html": [
       "<div>\n",
       "<style scoped>\n",
       "    .dataframe tbody tr th:only-of-type {\n",
       "        vertical-align: middle;\n",
       "    }\n",
       "\n",
       "    .dataframe tbody tr th {\n",
       "        vertical-align: top;\n",
       "    }\n",
       "\n",
       "    .dataframe thead th {\n",
       "        text-align: right;\n",
       "    }\n",
       "</style>\n",
       "<table border=\"1\" class=\"dataframe\">\n",
       "  <thead>\n",
       "    <tr style=\"text-align: right;\">\n",
       "      <th></th>\n",
       "      <th>date</th>\n",
       "      <th>height</th>\n",
       "      <th>cycle</th>\n",
       "      <th>time</th>\n",
       "      <th>total</th>\n",
       "      <th>activated</th>\n",
       "      <th>unclaimed</th>\n",
       "      <th>circulating</th>\n",
       "      <th>liquid</th>\n",
       "      <th>delegated</th>\n",
       "      <th>staking</th>\n",
       "      <th>active_delegated</th>\n",
       "      <th>active_staking</th>\n",
       "      <th>inactive_delegated</th>\n",
       "      <th>inactive_staking</th>\n",
       "      <th>minted</th>\n",
       "      <th>burned</th>\n",
       "      <th>frozen</th>\n",
       "    </tr>\n",
       "  </thead>\n",
       "  <tbody>\n",
       "    <tr>\n",
       "      <th>0</th>\n",
       "      <td>2018-07-03</td>\n",
       "      <td>4679</td>\n",
       "      <td>1</td>\n",
       "      <td>1530576000000</td>\n",
       "      <td>7.643183e+08</td>\n",
       "      <td>2.704409e+08</td>\n",
       "      <td>4.938777e+08</td>\n",
       "      <td>2.704406e+08</td>\n",
       "      <td>2.704174e+08</td>\n",
       "      <td>2.049396e+08</td>\n",
       "      <td>2.153482e+08</td>\n",
       "      <td>2.049396e+08</td>\n",
       "      <td>2.153482e+08</td>\n",
       "      <td>0.0</td>\n",
       "      <td>0.0</td>\n",
       "      <td>16.0</td>\n",
       "      <td>297.391</td>\n",
       "      <td>23202.324383</td>\n",
       "    </tr>\n",
       "    <tr>\n",
       "      <th>1</th>\n",
       "      <td>2018-07-04</td>\n",
       "      <td>6118</td>\n",
       "      <td>1</td>\n",
       "      <td>1530662400000</td>\n",
       "      <td>7.643182e+08</td>\n",
       "      <td>2.782212e+08</td>\n",
       "      <td>4.860974e+08</td>\n",
       "      <td>2.782208e+08</td>\n",
       "      <td>2.781404e+08</td>\n",
       "      <td>2.072192e+08</td>\n",
       "      <td>2.201187e+08</td>\n",
       "      <td>2.072192e+08</td>\n",
       "      <td>2.201187e+08</td>\n",
       "      <td>0.0</td>\n",
       "      <td>0.0</td>\n",
       "      <td>16.0</td>\n",
       "      <td>379.877</td>\n",
       "      <td>80454.625651</td>\n",
       "    </tr>\n",
       "    <tr>\n",
       "      <th>2</th>\n",
       "      <td>2018-07-05</td>\n",
       "      <td>7549</td>\n",
       "      <td>1</td>\n",
       "      <td>1530748800000</td>\n",
       "      <td>7.643182e+08</td>\n",
       "      <td>2.929948e+08</td>\n",
       "      <td>4.713238e+08</td>\n",
       "      <td>2.929944e+08</td>\n",
       "      <td>2.928569e+08</td>\n",
       "      <td>2.142015e+08</td>\n",
       "      <td>2.326753e+08</td>\n",
       "      <td>2.142015e+08</td>\n",
       "      <td>2.326753e+08</td>\n",
       "      <td>0.0</td>\n",
       "      <td>0.0</td>\n",
       "      <td>16.0</td>\n",
       "      <td>444.641</td>\n",
       "      <td>137487.540175</td>\n",
       "    </tr>\n",
       "    <tr>\n",
       "      <th>3</th>\n",
       "      <td>2018-07-06</td>\n",
       "      <td>8977</td>\n",
       "      <td>2</td>\n",
       "      <td>1530835200000</td>\n",
       "      <td>7.643181e+08</td>\n",
       "      <td>3.020691e+08</td>\n",
       "      <td>4.622494e+08</td>\n",
       "      <td>3.020687e+08</td>\n",
       "      <td>3.018432e+08</td>\n",
       "      <td>2.169808e+08</td>\n",
       "      <td>2.378547e+08</td>\n",
       "      <td>2.169808e+08</td>\n",
       "      <td>2.378547e+08</td>\n",
       "      <td>0.0</td>\n",
       "      <td>0.0</td>\n",
       "      <td>32.0</td>\n",
       "      <td>488.588</td>\n",
       "      <td>225483.259465</td>\n",
       "    </tr>\n",
       "    <tr>\n",
       "      <th>4</th>\n",
       "      <td>2018-07-07</td>\n",
       "      <td>10408</td>\n",
       "      <td>2</td>\n",
       "      <td>1530921600000</td>\n",
       "      <td>7.643181e+08</td>\n",
       "      <td>3.072372e+08</td>\n",
       "      <td>4.570814e+08</td>\n",
       "      <td>3.072367e+08</td>\n",
       "      <td>3.068975e+08</td>\n",
       "      <td>2.197491e+08</td>\n",
       "      <td>2.412647e+08</td>\n",
       "      <td>2.197491e+08</td>\n",
       "      <td>2.412647e+08</td>\n",
       "      <td>0.0</td>\n",
       "      <td>0.0</td>\n",
       "      <td>32.0</td>\n",
       "      <td>532.792</td>\n",
       "      <td>339179.380141</td>\n",
       "    </tr>\n",
       "  </tbody>\n",
       "</table>\n",
       "</div>"
      ],
      "text/plain": [
       "         date  height  cycle           time         total     activated  \\\n",
       "0  2018-07-03    4679      1  1530576000000  7.643183e+08  2.704409e+08   \n",
       "1  2018-07-04    6118      1  1530662400000  7.643182e+08  2.782212e+08   \n",
       "2  2018-07-05    7549      1  1530748800000  7.643182e+08  2.929948e+08   \n",
       "3  2018-07-06    8977      2  1530835200000  7.643181e+08  3.020691e+08   \n",
       "4  2018-07-07   10408      2  1530921600000  7.643181e+08  3.072372e+08   \n",
       "\n",
       "      unclaimed   circulating        liquid     delegated       staking  \\\n",
       "0  4.938777e+08  2.704406e+08  2.704174e+08  2.049396e+08  2.153482e+08   \n",
       "1  4.860974e+08  2.782208e+08  2.781404e+08  2.072192e+08  2.201187e+08   \n",
       "2  4.713238e+08  2.929944e+08  2.928569e+08  2.142015e+08  2.326753e+08   \n",
       "3  4.622494e+08  3.020687e+08  3.018432e+08  2.169808e+08  2.378547e+08   \n",
       "4  4.570814e+08  3.072367e+08  3.068975e+08  2.197491e+08  2.412647e+08   \n",
       "\n",
       "   active_delegated  active_staking  inactive_delegated  inactive_staking  \\\n",
       "0      2.049396e+08    2.153482e+08                 0.0               0.0   \n",
       "1      2.072192e+08    2.201187e+08                 0.0               0.0   \n",
       "2      2.142015e+08    2.326753e+08                 0.0               0.0   \n",
       "3      2.169808e+08    2.378547e+08                 0.0               0.0   \n",
       "4      2.197491e+08    2.412647e+08                 0.0               0.0   \n",
       "\n",
       "   minted   burned         frozen  \n",
       "0    16.0  297.391   23202.324383  \n",
       "1    16.0  379.877   80454.625651  \n",
       "2    16.0  444.641  137487.540175  \n",
       "3    32.0  488.588  225483.259465  \n",
       "4    32.0  532.792  339179.380141  "
      ]
     },
     "execution_count": 14,
     "metadata": {},
     "output_type": "execute_result"
    }
   ],
   "source": [
    "df1 = pd.read_csv(src_dir + \"Tzstats_supply_daily.csv\")\n",
    "df1.head()"
   ]
  },
  {
   "cell_type": "code",
   "execution_count": 15,
   "metadata": {},
   "outputs": [],
   "source": [
    "df1.drop([\"height\", \"cycle\", \"time\"], axis=1, inplace=True)"
   ]
  },
  {
   "cell_type": "code",
   "execution_count": 16,
   "metadata": {},
   "outputs": [],
   "source": [
    "df1.to_csv(dest_dir + \"Supply.csv\", index=False)"
   ]
  },
  {
   "cell_type": "markdown",
   "metadata": {},
   "source": [
    "## Market data\n"
   ]
  },
  {
   "cell_type": "code",
   "execution_count": 9,
   "metadata": {},
   "outputs": [],
   "source": [
    "df1 = pd.read_csv(src_dir + \"Cointg_OHLC.csv\")\n",
    "df2 = pd.read_csv(src_dir + \"TZ_market.csv\")"
   ]
  },
  {
   "cell_type": "code",
   "execution_count": 11,
   "metadata": {},
   "outputs": [],
   "source": [
    "df2.rename({\"Date\":\"date\"}, axis=1, inplace=True)"
   ]
  },
  {
   "cell_type": "code",
   "execution_count": 13,
   "metadata": {},
   "outputs": [],
   "source": [
    "df = pd.merge(df2, df1, how=\"left\", on=\"date\")\n",
    "df.to_csv(dest_dir + \"MarketAndPrice.csv\", index=False)"
   ]
  }
 ],
 "metadata": {
  "kernelspec": {
   "display_name": "Python 3",
   "language": "python",
   "name": "python3"
  },
  "language_info": {
   "codemirror_mode": {
    "name": "ipython",
    "version": 3
   },
   "file_extension": ".py",
   "mimetype": "text/x-python",
   "name": "python",
   "nbconvert_exporter": "python",
   "pygments_lexer": "ipython3",
   "version": "3.8.10"
  },
  "orig_nbformat": 4
 },
 "nbformat": 4,
 "nbformat_minor": 2
}
