{
 "cells": [
  {
   "cell_type": "code",
   "execution_count": 2,
   "metadata": {},
   "outputs": [],
   "source": [
    "import requests\n",
    "import json\n",
    "import pandas as pd\n",
    "from datetime import datetime\n",
    "import time\n",
    "from tqdm import tqdm \n",
    "import numpy as np\n",
    "\n",
    "coingecko_url = \"https://api.coingecko.com/api/v3/\""
   ]
  },
  {
   "cell_type": "code",
   "execution_count": 7,
   "metadata": {},
   "outputs": [],
   "source": [
    "all_coins_url = coingecko_url + \"coins/list/\"\n",
    "\n",
    "casper_ids = {\n",
    "    \"id\": \"casper-network\",\n",
    "    \"symbol\": \"cspr\",\n",
    "    \"name\" : \"Casper Network\"\n",
    "}\n",
    "\n",
    "tezos_ids = {\n",
    "    'id': 'tezos', \n",
    "    'symbol': 'xtz', \n",
    "    'name': 'Tezos'\n",
    "}\n",
    "    "
   ]
  },
  {
   "attachments": {},
   "cell_type": "markdown",
   "metadata": {},
   "source": [
    "## Get Market, Community and Developer Data\n",
    "Create arrays of dates for which to request data."
   ]
  },
  {
   "cell_type": "code",
   "execution_count": 8,
   "metadata": {},
   "outputs": [],
   "source": [
    "tezos_start =  \"03-07-2018\"\n",
    "casper_start = \"12-05-2021\"\n",
    "end_date = \"27-06-2023\"\n",
    "\n",
    "\n",
    "# Return array of strings in format dd-mm-yyyy; inputs are in the same date format\n",
    "def get_date_array(start, end, freq):\n",
    "\n",
    "    start = datetime.strptime(start, '%d-%m-%Y')\n",
    "    end = datetime.strptime(end, '%d-%m-%Y')\n",
    "\n",
    "    dti = pd.date_range(start, end, freq = freq)\n",
    "    return dti.strftime('%d-%m-%Y')\n",
    "\n",
    "tezos_dates = get_date_array(tezos_start, end_date, \"D\")\n",
    "casper_dates = get_date_array(casper_start, end_date, \"D\")\n",
    "\n",
    "tezos_ids[\"start_date\"] = tezos_start\n",
    "casper_ids[\"start_date\"] = casper_start\n"
   ]
  },
  {
   "cell_type": "code",
   "execution_count": 4,
   "metadata": {},
   "outputs": [
    {
     "name": "stderr",
     "output_type": "stream",
     "text": [
      "234it [40:13, 10.32s/it]\n"
     ]
    },
    {
     "ename": "KeyboardInterrupt",
     "evalue": "",
     "output_type": "error",
     "traceback": [
      "\u001b[0;31m---------------------------------------------------------------------------\u001b[0m",
      "\u001b[0;31mKeyboardInterrupt\u001b[0m                         Traceback (most recent call last)",
      "\u001b[1;32m/mnt/Ivana/Market data/Coingecko_requests.ipynb Cell 5\u001b[0m in \u001b[0;36m3\n\u001b[1;32m     <a href='vscode-notebook-cell://ssh-remote%2B172.23.179.174/mnt/Ivana/Market%20data/Coingecko_requests.ipynb#W4sdnNjb2RlLXJlbW90ZQ%3D%3D?line=33'>34</a>\u001b[0m data\u001b[39m.\u001b[39mappend(values)\n\u001b[1;32m     <a href='vscode-notebook-cell://ssh-remote%2B172.23.179.174/mnt/Ivana/Market%20data/Coingecko_requests.ipynb#W4sdnNjb2RlLXJlbW90ZQ%3D%3D?line=35'>36</a>\u001b[0m \u001b[39mif\u001b[39;00m i \u001b[39m>\u001b[39m \u001b[39m0\u001b[39m \u001b[39m&\u001b[39m i\u001b[39m%\u001b[39m\u001b[39m30\u001b[39m \u001b[39m==\u001b[39m \u001b[39m0\u001b[39m:\n\u001b[0;32m---> <a href='vscode-notebook-cell://ssh-remote%2B172.23.179.174/mnt/Ivana/Market%20data/Coingecko_requests.ipynb#W4sdnNjb2RlLXJlbW90ZQ%3D%3D?line=36'>37</a>\u001b[0m     time\u001b[39m.\u001b[39;49msleep(\u001b[39m10\u001b[39;49m)\n\u001b[1;32m     <a href='vscode-notebook-cell://ssh-remote%2B172.23.179.174/mnt/Ivana/Market%20data/Coingecko_requests.ipynb#W4sdnNjb2RlLXJlbW90ZQ%3D%3D?line=37'>38</a>\u001b[0m     df \u001b[39m=\u001b[39m pd\u001b[39m.\u001b[39mDataFrame\u001b[39m.\u001b[39mfrom_dict(data)\n\u001b[1;32m     <a href='vscode-notebook-cell://ssh-remote%2B172.23.179.174/mnt/Ivana/Market%20data/Coingecko_requests.ipynb#W4sdnNjb2RlLXJlbW90ZQ%3D%3D?line=38'>39</a>\u001b[0m     df\u001b[39m.\u001b[39mto_csv(file_name, index \u001b[39m=\u001b[39m \u001b[39mFalse\u001b[39;00m)\n",
      "\u001b[0;31mKeyboardInterrupt\u001b[0m: "
     ]
    }
   ],
   "source": [
    "tezos_url = \"{}coins/{}/history\".format(coingecko_url, tezos_ids[\"id\"])\n",
    "casper_url = \"{}coins/{}/history\".format(coingecko_url, casper_ids[\"id\"])\n",
    "\n",
    "data = []\n",
    "\n",
    "request_url = tezos_url\n",
    "file_name = \"Market data/Tezos_market_data.csv\"\n",
    "\n",
    "# Request data for each day in dates array and store it in a dataframe; sleep time is because of API limitations\n",
    "for i, day in tqdm(enumerate(tezos_dates)):\n",
    "    params = {\n",
    "        \"date\": day\n",
    "    }\n",
    "    response = requests.get(url = request_url, params=params)\n",
    "    js = json.loads(response.text)\n",
    "\n",
    "    values = {}\n",
    "\n",
    "    values['Date'] = day\n",
    "\n",
    "    if not set([\"market_data\", \"community_data\", \"developer_data\"]).issubset(set(js.keys())):\n",
    "        print(day, json.dumps(js, indent=2))\n",
    "\n",
    "    for k, v in js[\"market_data\"].items():\n",
    "        values[k] = v[\"usd\"]\n",
    "\n",
    "    for k, v in js[\"community_data\"].items():\n",
    "        values[k] = v\n",
    "\n",
    "    for k, v in js[\"developer_data\"].items():\n",
    "        if k == \"code_additions_deletions_4_weeks\": continue\n",
    "        values[k] = v\n",
    "\n",
    "    data.append(values)\n",
    "\n",
    "    if i > 0 & i%30 == 0:\n",
    "        time.sleep(10)\n",
    "        df = pd.DataFrame.from_dict(data)\n",
    "        df.to_csv(file_name, index = False)\n",
    "\n",
    "df = pd.DataFrame.from_dict(data)\n",
    "df.to_csv(file_name, index = False)"
   ]
  },
  {
   "cell_type": "code",
   "execution_count": 5,
   "metadata": {},
   "outputs": [],
   "source": [
    "df = pd.DataFrame.from_dict(data)\n",
    "df.to_csv(file_name, index = False)"
   ]
  },
  {
   "attachments": {},
   "cell_type": "markdown",
   "metadata": {},
   "source": [
    "### Format data"
   ]
  },
  {
   "cell_type": "code",
   "execution_count": 9,
   "metadata": {},
   "outputs": [],
   "source": [
    "df_casper = pd.read_csv(\"Market data/CoinGecko_Casper.csv\")"
   ]
  },
  {
   "cell_type": "code",
   "execution_count": null,
   "metadata": {},
   "outputs": [],
   "source": [
    "df_casper.isna().sum()"
   ]
  },
  {
   "cell_type": "code",
   "execution_count": 11,
   "metadata": {},
   "outputs": [],
   "source": [
    "# Remove the columns with mostly NA values and save final result to csv\n",
    "cols = [ 'Date', 'current_price', 'market_cap', 'total_volume', \n",
    "       'twitter_followers', 'reddit_average_posts_48h',\n",
    "       'reddit_average_comments_48h', 'reddit_subscribers',\n",
    "       'reddit_accounts_active_48h']\n",
    "\n",
    "df_result = df_casper[cols]\n",
    "df_result.to_csv(\"Market data/Casper_market_data.csv\", index = False)"
   ]
  },
  {
   "attachments": {},
   "cell_type": "markdown",
   "metadata": {},
   "source": [
    "## Get price data for other relevant blockchains"
   ]
  },
  {
   "cell_type": "code",
   "execution_count": 5,
   "metadata": {},
   "outputs": [],
   "source": [
    "other_cryptos = ['bitcoin', 'ethereum', 'ripple', 'litecoin']\n",
    "\n",
    "start_timestamp = time.mktime(datetime.strptime(tezos_dates[0], \"%d-%m-%Y\").timetuple())\n",
    "end_timestamp = time.mktime(datetime.strptime(tezos_dates[-1], \"%d-%m-%Y\").timetuple())\n",
    "\n",
    "params = {\n",
    "    \"from\":start_timestamp,\n",
    "    \"to\": end_timestamp,\n",
    "    \"vs_currency\": \"usd\"\n",
    "}\n",
    "\n",
    "result_dir = \"Market data/\"\n",
    "\n",
    "for cr in other_cryptos:\n",
    "    url = coingecko_url + \"coins/\" + cr + \"/market_chart/range\"\n",
    "    params[\"id\"] = cr\n",
    "\n",
    "    response = requests.get(url = url, params = params)\n",
    "    js = json.loads(response.text)\n",
    "\n",
    "    df_temp = pd.DataFrame()\n",
    "\n",
    "    for key in js.keys():\n",
    "        timestamps, values = np.split(np.array(js[key]), 2, axis=1)\n",
    "\n",
    "        if df_temp.shape[1] == 0:\n",
    "            df_temp = pd.DataFrame({\"Date\" : timestamps.flatten(), \"price\" : values.flatten()})\n",
    "    \t\n",
    "        else:\n",
    "            df_temp[key] = values.flatten()\n",
    "\n",
    "    df_temp.Date = pd.to_datetime(df_temp.Date, unit = 'ms')\n",
    "    df_temp.rename(columns =  {'market_caps':'market_cap', 'total_volumes':'total_volume'})\n",
    "    \n",
    "    df_temp.to_csv(result_dir + cr + \"_market_data.csv\", index = False)\n",
    "\n",
    "\n",
    "\n"
   ]
  },
  {
   "attachments": {},
   "cell_type": "markdown",
   "metadata": {},
   "source": [
    "### Get data for USDT"
   ]
  },
  {
   "cell_type": "code",
   "execution_count": null,
   "metadata": {},
   "outputs": [],
   "source": [
    "id = \"tether\", \"usdtz\""
   ]
  },
  {
   "attachments": {},
   "cell_type": "markdown",
   "metadata": {},
   "source": [
    "## Get coin OHLC"
   ]
  },
  {
   "cell_type": "code",
   "execution_count": 28,
   "metadata": {},
   "outputs": [],
   "source": [
    "params = {\n",
    "    \"vs_currency\": \"usd\",\n",
    "    \"days\": \"max\"\n",
    "}\n",
    "\n",
    "end_date_datime = pd.to_datetime(end_date,  format=\"%d-%m-%Y\")\n",
    "\n",
    "for id_dict in [tezos_ids, casper_ids]:\n",
    "    url = \"{}/coins/{}/ohlc\".format(coingecko_url, id_dict[\"id\"])\n",
    "    params[\"id\"] = id_dict[\"id\"]\n",
    "\n",
    "    response = requests.get(url = url, params = params)\n",
    "    js = json.loads(response.text)\n",
    "\n",
    "    start_date  = pd.to_datetime(id_dict[\"start_date\"],  format=\"%d-%m-%Y\")\n",
    "\n",
    "    splitted = np.split(np.array(js), 5, axis=1)\n",
    "    df_temp = pd.DataFrame()\n",
    "\n",
    "    for i in splitted:\n",
    "        df_temp[len(df_temp.columns)] = i.flatten()\n",
    "\n",
    "    df_temp.columns = ['date', 'open', 'high', 'low', 'close']\n",
    "    df_temp.date = pd.to_datetime(df_temp.date, unit = 'ms')\n",
    "\n",
    "    df_temp = df_temp.loc[df_temp.date >= start_date]\n",
    "    df_temp.to_csv(result_dir + id_dict[\"id\"] + \"_OHLC.csv\", index = False )"
   ]
  },
  {
   "attachments": {},
   "cell_type": "markdown",
   "metadata": {},
   "source": []
  },
  {
   "cell_type": "code",
   "execution_count": 31,
   "metadata": {},
   "outputs": [
    {
     "data": {
      "text/plain": [
       "['2023-07-04T15:28:11+00:00',\n",
       " '2023-07-04T15:25:34+00:00',\n",
       " '2023-07-04T15:25:44+00:00',\n",
       " '2023-07-04T15:26:33+00:00',\n",
       " '2023-07-04T15:25:12+00:00',\n",
       " '2023-07-04T15:11:50+00:00',\n",
       " '2023-07-04T15:25:52+00:00',\n",
       " '2023-07-04T15:25:28+00:00',\n",
       " '2023-07-04T15:25:56+00:00',\n",
       " '2023-07-04T15:27:24+00:00',\n",
       " '2023-07-04T15:27:51+00:00',\n",
       " '2023-07-04T15:25:41+00:00',\n",
       " '2023-07-04T15:27:16+00:00',\n",
       " '2023-07-04T15:25:20+00:00',\n",
       " '2023-07-04T15:24:33+00:00',\n",
       " '2023-07-04T15:18:44+00:00',\n",
       " '2023-07-04T15:25:53+00:00',\n",
       " '2023-07-04T15:11:50+00:00',\n",
       " '2023-07-04T15:25:20+00:00',\n",
       " '2023-07-04T15:28:00+00:00',\n",
       " '2023-07-04T15:27:13+00:00',\n",
       " '2023-07-04T15:26:42+00:00',\n",
       " '2023-07-04T15:27:26+00:00',\n",
       " '2023-07-04T15:26:46+00:00',\n",
       " '2023-07-04T15:26:02+00:00',\n",
       " '2023-07-04T15:25:57+00:00',\n",
       " '2023-07-04T15:13:22+00:00',\n",
       " '2023-07-04T15:26:46+00:00',\n",
       " '2023-07-04T15:07:06+00:00',\n",
       " '2023-07-04T15:17:22+00:00',\n",
       " '2023-07-04T15:22:00+00:00',\n",
       " '2023-07-04T15:15:10+00:00',\n",
       " '2023-07-04T15:27:24+00:00',\n",
       " '2023-07-04T15:25:12+00:00',\n",
       " '2023-07-04T15:27:51+00:00',\n",
       " '2023-07-04T15:26:46+00:00',\n",
       " '2023-07-04T15:27:41+00:00',\n",
       " '2023-07-04T15:25:46+00:00',\n",
       " '2023-07-04T15:03:22+00:00',\n",
       " '2023-07-04T15:25:53+00:00',\n",
       " '2023-07-04T15:28:01+00:00',\n",
       " '2023-07-04T15:25:08+00:00',\n",
       " '2023-07-04T15:25:18+00:00',\n",
       " '2023-07-04T15:25:19+00:00',\n",
       " '2023-07-04T15:26:32+00:00',\n",
       " '2023-07-04T15:09:23+00:00',\n",
       " '2023-07-04T15:28:28+00:00',\n",
       " '2023-07-04T15:16:51+00:00',\n",
       " '2023-07-04T15:23:25+00:00',\n",
       " '2023-07-04T15:20:59+00:00',\n",
       " '2023-07-04T15:25:08+00:00',\n",
       " '2023-07-04T14:39:34+00:00',\n",
       " '2023-07-04T15:04:48+00:00',\n",
       " '2023-07-04T15:25:18+00:00',\n",
       " '2023-07-04T15:21:48+00:00',\n",
       " '2023-07-04T14:32:46+00:00',\n",
       " '2023-07-04T15:04:48+00:00',\n",
       " '2023-07-04T15:25:33+00:00',\n",
       " '2023-07-04T15:25:33+00:00',\n",
       " '2023-07-04T15:25:53+00:00',\n",
       " '2023-07-04T15:24:37+00:00',\n",
       " '2023-07-04T15:16:19+00:00',\n",
       " '2023-07-04T15:28:23+00:00',\n",
       " '2023-07-04T15:13:47+00:00',\n",
       " '2023-07-04T15:27:55+00:00',\n",
       " '2023-07-04T15:04:02+00:00',\n",
       " '2023-07-04T15:26:50+00:00',\n",
       " '2023-07-04T15:26:01+00:00',\n",
       " '2023-07-04T15:28:23+00:00',\n",
       " '2023-07-04T15:28:23+00:00',\n",
       " '2023-07-04T15:28:23+00:00',\n",
       " '2023-07-04T15:26:51+00:00',\n",
       " '2023-07-04T15:26:01+00:00',\n",
       " '2023-07-04T15:25:52+00:00',\n",
       " '2023-07-04T15:25:35+00:00',\n",
       " '2023-07-04T14:52:44+00:00',\n",
       " '2023-07-04T15:26:38+00:00',\n",
       " '2023-07-04T14:59:23+00:00',\n",
       " '2023-07-04T15:26:04+00:00',\n",
       " '2023-07-04T15:08:45+00:00',\n",
       " '2023-07-04T15:18:16+00:00',\n",
       " '2023-07-04T14:46:41+00:00',\n",
       " '2023-07-04T13:45:07+00:00',\n",
       " '2023-07-04T15:26:04+00:00',\n",
       " '2023-07-04T14:43:37+00:00',\n",
       " '2023-07-04T15:25:31+00:00',\n",
       " '2023-07-04T15:04:48+00:00',\n",
       " '2023-07-04T15:25:38+00:00',\n",
       " '2023-07-04T15:06:39+00:00',\n",
       " '2023-07-04T15:04:48+00:00',\n",
       " '2023-07-04T15:04:48+00:00',\n",
       " '2023-07-04T15:25:26+00:00',\n",
       " '2023-07-04T13:10:42+00:00',\n",
       " '2023-07-04T15:25:26+00:00',\n",
       " '2023-07-04T13:34:48+00:00',\n",
       " '2023-07-04T15:04:48+00:00',\n",
       " '2023-07-04T15:04:48+00:00',\n",
       " '2023-07-04T12:52:52+00:00',\n",
       " '2023-07-04T15:04:48+00:00',\n",
       " '2023-07-04T14:32:45+00:00']"
      ]
     },
     "execution_count": 31,
     "metadata": {},
     "output_type": "execute_result"
    }
   ],
   "source": [
    "\n",
    "\n",
    "response = requests.get(url = \"https://api.coingecko.com/api/v3/coins/tezos/tickers\", params = {\"id\":\"tezos\"})\n",
    "js = json.loads(response.text)\n",
    "\n",
    "time= [i['timestamp'] for i in js['tickers']]\n",
    "\n",
    "time\n"
   ]
  }
 ],
 "metadata": {
  "kernelspec": {
   "display_name": "Python 3",
   "language": "python",
   "name": "python3"
  },
  "language_info": {
   "codemirror_mode": {
    "name": "ipython",
    "version": 3
   },
   "file_extension": ".py",
   "mimetype": "text/x-python",
   "name": "python",
   "nbconvert_exporter": "python",
   "pygments_lexer": "ipython3",
   "version": "3.8.10"
  },
  "orig_nbformat": 4
 },
 "nbformat": 4,
 "nbformat_minor": 2
}
